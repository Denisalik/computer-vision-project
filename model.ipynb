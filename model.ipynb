{
 "cells": [
  {
   "cell_type": "code",
   "execution_count": 1,
   "metadata": {
    "collapsed": true
   },
   "outputs": [],
   "source": [
    "import numpy as np\n",
    "import pandas as pd\n",
    "import matplotlib.pyplot as plt\n",
    "\n",
    "import os\n",
    "import json\n",
    "from pandas.io.json import json_normalize\n",
    "\n",
    "import torch\n",
    "from torchvision import transforms\n",
    "from torch.utils.data import Dataset, DataLoader\n",
    "from PIL import Image"
   ]
  },
  {
   "cell_type": "code",
   "execution_count": 2,
   "outputs": [
    {
     "name": "stdout",
     "output_type": "stream",
     "text": [
      "iwildcam2022_mdv4_detections.json    processed_train.csv\r\n",
      "iwildcam2022_test_information.json   train_sequence_counts.csv\r\n",
      "iwildcam2022_train_annotations.json\r\n"
     ]
    }
   ],
   "source": [
    "os.chdir('data')\n",
    "!ls"
   ],
   "metadata": {
    "collapsed": false
   }
  },
  {
   "cell_type": "code",
   "execution_count": 11,
   "outputs": [],
   "source": [
    "def get_label(filename: str, labels: list[dict]):\n",
    "    row = next((x for x in labels if filename == x['file']), [None])\n",
    "    if row is None:\n",
    "        return row\n",
    "    detections = row['detections']\n",
    "    filtered_detections = list(filter(lambda x: x['category'] == '1' and x['conf'] > 0.5, detections))\n",
    "    bboxes = list(map(lambda x: x['bbox'], filtered_detections))\n",
    "    return json.dumps(bboxes)"
   ],
   "metadata": {
    "collapsed": false
   }
  },
  {
   "cell_type": "markdown",
   "source": [
    "To make a pytorch dataset we extract filenames from json file. Extracting label was a harder, because we need to extract one json and for every record we need to take filename and match it with record's filename from another json(basically it is similar to SQL `JOIN ON`), taking needed fields, filter by 'category' and confidence, and converting it to json string, for easy reading and saving. We save a progress in csv file, so we can always read it, instead of executing everything again. Dataset consist of taking image paths from our csv, reading it, resizing it, converting to rgb, and converting it to tensors. Right now dataset consist of images(that's why we use results from a pretrained model, as they are written for images, instead of `train_sequence_counts`), later it may change to sequences of images."
   ],
   "metadata": {
    "collapsed": false
   }
  },
  {
   "cell_type": "code",
   "execution_count": 12,
   "outputs": [],
   "source": [
    "def get_data(images_json_path: str, labels_json_path: str):\n",
    "    d = None\n",
    "    with open(labels_json_path) as f:\n",
    "        d = json.load(f)\n",
    "    labels = d['images']\n",
    "\n",
    "    with open(images_json_path) as f:\n",
    "        d = json.load(f)\n",
    "    images = json_normalize(data=d['images'],\n",
    "                   meta=['seq_num_frames', 'location', 'datetime', 'id', 'seq_id', 'width', 'height', 'file_name', 'sub_location', 'seq_frame_num'])\n",
    "    # annotations_df = json_normalize(data=d['annotations'],\n",
    "    #                              meta=['id', 'image_id', 'category_id'])\n",
    "    # categories_df = json_normalize(data=d['categories'],\n",
    "    #                             meta=['id', 'name'])\n",
    "\n",
    "    # return get_label('train/' + images.iloc[0]['file_name'], labels)\n",
    "    images['box'] = images.apply(lambda x: get_label('train/' + x['file_name'], labels), axis=1)\n",
    "    return images\n",
    "\n"
   ],
   "metadata": {
    "collapsed": false
   }
  },
  {
   "cell_type": "code",
   "execution_count": 13,
   "outputs": [
    {
     "name": "stderr",
     "output_type": "stream",
     "text": [
      "/tmp/ipykernel_2847/4097028311.py:9: FutureWarning: pandas.io.json.json_normalize is deprecated, use pandas.json_normalize instead.\n",
      "  images = json_normalize(data=d['images'],\n"
     ]
    }
   ],
   "source": [
    "df = get_data('iwildcam2022_train_annotations.json', 'iwildcam2022_mdv4_detections.json')"
   ],
   "metadata": {
    "collapsed": false
   }
  },
  {
   "cell_type": "code",
   "execution_count": 14,
   "outputs": [
    {
     "data": {
      "text/plain": "        seq_num_frames  location                 datetime  \\\n0                    6         3  2013-06-05 05:44:19.000   \n1                    6         3  2013-06-05 05:44:20.000   \n2                    6         3  2013-06-05 05:44:21.000   \n3                    6         3  2013-06-05 05:44:22.000   \n4                    6         3  2013-06-05 05:44:23.000   \n...                ...       ...                      ...   \n201394               6       165  2013-06-05 13:08:12.000   \n201395               6       165  2013-06-05 13:08:19.000   \n201396               6       165  2013-06-05 13:08:42.000   \n201397               6       165  2013-06-05 13:08:48.000   \n201398               6       165  2013-06-05 13:08:55.000   \n\n                                          id  \\\n0       8b02698a-21bc-11ea-a13a-137349068a90   \n1       8e5b81de-21bc-11ea-a13a-137349068a90   \n2       8c6be0e4-21bc-11ea-a13a-137349068a90   \n3       8fdf7998-21bc-11ea-a13a-137349068a90   \n4       96093c50-21bc-11ea-a13a-137349068a90   \n...                                      ...   \n201394  91421eee-21bc-11ea-a13a-137349068a90   \n201395  91140194-21bc-11ea-a13a-137349068a90   \n201396  8f1f5f46-21bc-11ea-a13a-137349068a90   \n201397  974a365a-21bc-11ea-a13a-137349068a90   \n201398  93a4d938-21bc-11ea-a13a-137349068a90   \n\n                                      seq_id  width  height  \\\n0       30048d32-7d42-11eb-8fb5-0242ac1c0002   1920    1080   \n1       30048d32-7d42-11eb-8fb5-0242ac1c0002   1920    1080   \n2       30048d32-7d42-11eb-8fb5-0242ac1c0002   1920    1080   \n3       30048d32-7d42-11eb-8fb5-0242ac1c0002   1920    1080   \n4       30048d32-7d42-11eb-8fb5-0242ac1c0002   1920    1080   \n...                                      ...    ...     ...   \n201394  974a375e-21bc-11ea-a13a-137349068a90   2048    1536   \n201395  974a375e-21bc-11ea-a13a-137349068a90   2048    1536   \n201396  974a375e-21bc-11ea-a13a-137349068a90   2048    1536   \n201397  974a375e-21bc-11ea-a13a-137349068a90   2048    1536   \n201398  974a375e-21bc-11ea-a13a-137349068a90   2048    1536   \n\n                                       file_name  sub_location  seq_frame_num  \\\n0       8b02698a-21bc-11ea-a13a-137349068a90.jpg           0.0              0   \n1       8e5b81de-21bc-11ea-a13a-137349068a90.jpg           0.0              1   \n2       8c6be0e4-21bc-11ea-a13a-137349068a90.jpg           0.0              2   \n3       8fdf7998-21bc-11ea-a13a-137349068a90.jpg           0.0              3   \n4       96093c50-21bc-11ea-a13a-137349068a90.jpg           0.0              4   \n...                                          ...           ...            ...   \n201394  91421eee-21bc-11ea-a13a-137349068a90.jpg           NaN              1   \n201395  91140194-21bc-11ea-a13a-137349068a90.jpg           NaN              2   \n201396  8f1f5f46-21bc-11ea-a13a-137349068a90.jpg           NaN              3   \n201397  974a365a-21bc-11ea-a13a-137349068a90.jpg           NaN              4   \n201398  93a4d938-21bc-11ea-a13a-137349068a90.jpg           NaN              5   \n\n                                   box  \n0           [[0, 0.091, 0.983, 0.876]]  \n1       [[0.193, 0.261, 0.803, 0.714]]  \n2       [[0.717, 0.412, 0.282, 0.558]]  \n3       [[0.772, 0.474, 0.226, 0.504]]  \n4        [[0.862, 0.539, 0.136, 0.43]]  \n...                                ...  \n201394                              []  \n201395                              []  \n201396                              []  \n201397                              []  \n201398                              []  \n\n[201399 rows x 11 columns]",
      "text/html": "<div>\n<style scoped>\n    .dataframe tbody tr th:only-of-type {\n        vertical-align: middle;\n    }\n\n    .dataframe tbody tr th {\n        vertical-align: top;\n    }\n\n    .dataframe thead th {\n        text-align: right;\n    }\n</style>\n<table border=\"1\" class=\"dataframe\">\n  <thead>\n    <tr style=\"text-align: right;\">\n      <th></th>\n      <th>seq_num_frames</th>\n      <th>location</th>\n      <th>datetime</th>\n      <th>id</th>\n      <th>seq_id</th>\n      <th>width</th>\n      <th>height</th>\n      <th>file_name</th>\n      <th>sub_location</th>\n      <th>seq_frame_num</th>\n      <th>box</th>\n    </tr>\n  </thead>\n  <tbody>\n    <tr>\n      <th>0</th>\n      <td>6</td>\n      <td>3</td>\n      <td>2013-06-05 05:44:19.000</td>\n      <td>8b02698a-21bc-11ea-a13a-137349068a90</td>\n      <td>30048d32-7d42-11eb-8fb5-0242ac1c0002</td>\n      <td>1920</td>\n      <td>1080</td>\n      <td>8b02698a-21bc-11ea-a13a-137349068a90.jpg</td>\n      <td>0.0</td>\n      <td>0</td>\n      <td>[[0, 0.091, 0.983, 0.876]]</td>\n    </tr>\n    <tr>\n      <th>1</th>\n      <td>6</td>\n      <td>3</td>\n      <td>2013-06-05 05:44:20.000</td>\n      <td>8e5b81de-21bc-11ea-a13a-137349068a90</td>\n      <td>30048d32-7d42-11eb-8fb5-0242ac1c0002</td>\n      <td>1920</td>\n      <td>1080</td>\n      <td>8e5b81de-21bc-11ea-a13a-137349068a90.jpg</td>\n      <td>0.0</td>\n      <td>1</td>\n      <td>[[0.193, 0.261, 0.803, 0.714]]</td>\n    </tr>\n    <tr>\n      <th>2</th>\n      <td>6</td>\n      <td>3</td>\n      <td>2013-06-05 05:44:21.000</td>\n      <td>8c6be0e4-21bc-11ea-a13a-137349068a90</td>\n      <td>30048d32-7d42-11eb-8fb5-0242ac1c0002</td>\n      <td>1920</td>\n      <td>1080</td>\n      <td>8c6be0e4-21bc-11ea-a13a-137349068a90.jpg</td>\n      <td>0.0</td>\n      <td>2</td>\n      <td>[[0.717, 0.412, 0.282, 0.558]]</td>\n    </tr>\n    <tr>\n      <th>3</th>\n      <td>6</td>\n      <td>3</td>\n      <td>2013-06-05 05:44:22.000</td>\n      <td>8fdf7998-21bc-11ea-a13a-137349068a90</td>\n      <td>30048d32-7d42-11eb-8fb5-0242ac1c0002</td>\n      <td>1920</td>\n      <td>1080</td>\n      <td>8fdf7998-21bc-11ea-a13a-137349068a90.jpg</td>\n      <td>0.0</td>\n      <td>3</td>\n      <td>[[0.772, 0.474, 0.226, 0.504]]</td>\n    </tr>\n    <tr>\n      <th>4</th>\n      <td>6</td>\n      <td>3</td>\n      <td>2013-06-05 05:44:23.000</td>\n      <td>96093c50-21bc-11ea-a13a-137349068a90</td>\n      <td>30048d32-7d42-11eb-8fb5-0242ac1c0002</td>\n      <td>1920</td>\n      <td>1080</td>\n      <td>96093c50-21bc-11ea-a13a-137349068a90.jpg</td>\n      <td>0.0</td>\n      <td>4</td>\n      <td>[[0.862, 0.539, 0.136, 0.43]]</td>\n    </tr>\n    <tr>\n      <th>...</th>\n      <td>...</td>\n      <td>...</td>\n      <td>...</td>\n      <td>...</td>\n      <td>...</td>\n      <td>...</td>\n      <td>...</td>\n      <td>...</td>\n      <td>...</td>\n      <td>...</td>\n      <td>...</td>\n    </tr>\n    <tr>\n      <th>201394</th>\n      <td>6</td>\n      <td>165</td>\n      <td>2013-06-05 13:08:12.000</td>\n      <td>91421eee-21bc-11ea-a13a-137349068a90</td>\n      <td>974a375e-21bc-11ea-a13a-137349068a90</td>\n      <td>2048</td>\n      <td>1536</td>\n      <td>91421eee-21bc-11ea-a13a-137349068a90.jpg</td>\n      <td>NaN</td>\n      <td>1</td>\n      <td>[]</td>\n    </tr>\n    <tr>\n      <th>201395</th>\n      <td>6</td>\n      <td>165</td>\n      <td>2013-06-05 13:08:19.000</td>\n      <td>91140194-21bc-11ea-a13a-137349068a90</td>\n      <td>974a375e-21bc-11ea-a13a-137349068a90</td>\n      <td>2048</td>\n      <td>1536</td>\n      <td>91140194-21bc-11ea-a13a-137349068a90.jpg</td>\n      <td>NaN</td>\n      <td>2</td>\n      <td>[]</td>\n    </tr>\n    <tr>\n      <th>201396</th>\n      <td>6</td>\n      <td>165</td>\n      <td>2013-06-05 13:08:42.000</td>\n      <td>8f1f5f46-21bc-11ea-a13a-137349068a90</td>\n      <td>974a375e-21bc-11ea-a13a-137349068a90</td>\n      <td>2048</td>\n      <td>1536</td>\n      <td>8f1f5f46-21bc-11ea-a13a-137349068a90.jpg</td>\n      <td>NaN</td>\n      <td>3</td>\n      <td>[]</td>\n    </tr>\n    <tr>\n      <th>201397</th>\n      <td>6</td>\n      <td>165</td>\n      <td>2013-06-05 13:08:48.000</td>\n      <td>974a365a-21bc-11ea-a13a-137349068a90</td>\n      <td>974a375e-21bc-11ea-a13a-137349068a90</td>\n      <td>2048</td>\n      <td>1536</td>\n      <td>974a365a-21bc-11ea-a13a-137349068a90.jpg</td>\n      <td>NaN</td>\n      <td>4</td>\n      <td>[]</td>\n    </tr>\n    <tr>\n      <th>201398</th>\n      <td>6</td>\n      <td>165</td>\n      <td>2013-06-05 13:08:55.000</td>\n      <td>93a4d938-21bc-11ea-a13a-137349068a90</td>\n      <td>974a375e-21bc-11ea-a13a-137349068a90</td>\n      <td>2048</td>\n      <td>1536</td>\n      <td>93a4d938-21bc-11ea-a13a-137349068a90.jpg</td>\n      <td>NaN</td>\n      <td>5</td>\n      <td>[]</td>\n    </tr>\n  </tbody>\n</table>\n<p>201399 rows × 11 columns</p>\n</div>"
     },
     "execution_count": 14,
     "metadata": {},
     "output_type": "execute_result"
    }
   ],
   "source": [
    "df"
   ],
   "metadata": {
    "collapsed": false
   }
  },
  {
   "cell_type": "code",
   "execution_count": 16,
   "outputs": [],
   "source": [
    "df.to_csv('processed_train.csv', sep='\\t')"
   ],
   "metadata": {
    "collapsed": false
   }
  },
  {
   "cell_type": "code",
   "execution_count": 3,
   "outputs": [
    {
     "data": {
      "text/plain": "   seq_num_frames  location                 datetime  \\\n0               6         3  2013-06-05 05:44:19.000   \n1               6         3  2013-06-05 05:44:20.000   \n2               6         3  2013-06-05 05:44:21.000   \n3               6         3  2013-06-05 05:44:22.000   \n4               6         3  2013-06-05 05:44:23.000   \n\n                                     id                                seq_id  \\\n0  8b02698a-21bc-11ea-a13a-137349068a90  30048d32-7d42-11eb-8fb5-0242ac1c0002   \n1  8e5b81de-21bc-11ea-a13a-137349068a90  30048d32-7d42-11eb-8fb5-0242ac1c0002   \n2  8c6be0e4-21bc-11ea-a13a-137349068a90  30048d32-7d42-11eb-8fb5-0242ac1c0002   \n3  8fdf7998-21bc-11ea-a13a-137349068a90  30048d32-7d42-11eb-8fb5-0242ac1c0002   \n4  96093c50-21bc-11ea-a13a-137349068a90  30048d32-7d42-11eb-8fb5-0242ac1c0002   \n\n   width  height                                 file_name  sub_location  \\\n0   1920    1080  8b02698a-21bc-11ea-a13a-137349068a90.jpg           0.0   \n1   1920    1080  8e5b81de-21bc-11ea-a13a-137349068a90.jpg           0.0   \n2   1920    1080  8c6be0e4-21bc-11ea-a13a-137349068a90.jpg           0.0   \n3   1920    1080  8fdf7998-21bc-11ea-a13a-137349068a90.jpg           0.0   \n4   1920    1080  96093c50-21bc-11ea-a13a-137349068a90.jpg           0.0   \n\n   seq_frame_num                             box  \n0              0      [[0, 0.091, 0.983, 0.876]]  \n1              1  [[0.193, 0.261, 0.803, 0.714]]  \n2              2  [[0.717, 0.412, 0.282, 0.558]]  \n3              3  [[0.772, 0.474, 0.226, 0.504]]  \n4              4   [[0.862, 0.539, 0.136, 0.43]]  ",
      "text/html": "<div>\n<style scoped>\n    .dataframe tbody tr th:only-of-type {\n        vertical-align: middle;\n    }\n\n    .dataframe tbody tr th {\n        vertical-align: top;\n    }\n\n    .dataframe thead th {\n        text-align: right;\n    }\n</style>\n<table border=\"1\" class=\"dataframe\">\n  <thead>\n    <tr style=\"text-align: right;\">\n      <th></th>\n      <th>seq_num_frames</th>\n      <th>location</th>\n      <th>datetime</th>\n      <th>id</th>\n      <th>seq_id</th>\n      <th>width</th>\n      <th>height</th>\n      <th>file_name</th>\n      <th>sub_location</th>\n      <th>seq_frame_num</th>\n      <th>box</th>\n    </tr>\n  </thead>\n  <tbody>\n    <tr>\n      <th>0</th>\n      <td>6</td>\n      <td>3</td>\n      <td>2013-06-05 05:44:19.000</td>\n      <td>8b02698a-21bc-11ea-a13a-137349068a90</td>\n      <td>30048d32-7d42-11eb-8fb5-0242ac1c0002</td>\n      <td>1920</td>\n      <td>1080</td>\n      <td>8b02698a-21bc-11ea-a13a-137349068a90.jpg</td>\n      <td>0.0</td>\n      <td>0</td>\n      <td>[[0, 0.091, 0.983, 0.876]]</td>\n    </tr>\n    <tr>\n      <th>1</th>\n      <td>6</td>\n      <td>3</td>\n      <td>2013-06-05 05:44:20.000</td>\n      <td>8e5b81de-21bc-11ea-a13a-137349068a90</td>\n      <td>30048d32-7d42-11eb-8fb5-0242ac1c0002</td>\n      <td>1920</td>\n      <td>1080</td>\n      <td>8e5b81de-21bc-11ea-a13a-137349068a90.jpg</td>\n      <td>0.0</td>\n      <td>1</td>\n      <td>[[0.193, 0.261, 0.803, 0.714]]</td>\n    </tr>\n    <tr>\n      <th>2</th>\n      <td>6</td>\n      <td>3</td>\n      <td>2013-06-05 05:44:21.000</td>\n      <td>8c6be0e4-21bc-11ea-a13a-137349068a90</td>\n      <td>30048d32-7d42-11eb-8fb5-0242ac1c0002</td>\n      <td>1920</td>\n      <td>1080</td>\n      <td>8c6be0e4-21bc-11ea-a13a-137349068a90.jpg</td>\n      <td>0.0</td>\n      <td>2</td>\n      <td>[[0.717, 0.412, 0.282, 0.558]]</td>\n    </tr>\n    <tr>\n      <th>3</th>\n      <td>6</td>\n      <td>3</td>\n      <td>2013-06-05 05:44:22.000</td>\n      <td>8fdf7998-21bc-11ea-a13a-137349068a90</td>\n      <td>30048d32-7d42-11eb-8fb5-0242ac1c0002</td>\n      <td>1920</td>\n      <td>1080</td>\n      <td>8fdf7998-21bc-11ea-a13a-137349068a90.jpg</td>\n      <td>0.0</td>\n      <td>3</td>\n      <td>[[0.772, 0.474, 0.226, 0.504]]</td>\n    </tr>\n    <tr>\n      <th>4</th>\n      <td>6</td>\n      <td>3</td>\n      <td>2013-06-05 05:44:23.000</td>\n      <td>96093c50-21bc-11ea-a13a-137349068a90</td>\n      <td>30048d32-7d42-11eb-8fb5-0242ac1c0002</td>\n      <td>1920</td>\n      <td>1080</td>\n      <td>96093c50-21bc-11ea-a13a-137349068a90.jpg</td>\n      <td>0.0</td>\n      <td>4</td>\n      <td>[[0.862, 0.539, 0.136, 0.43]]</td>\n    </tr>\n  </tbody>\n</table>\n</div>"
     },
     "execution_count": 3,
     "metadata": {},
     "output_type": "execute_result"
    }
   ],
   "source": [
    "df = pd.read_csv('processed_train.csv', sep='\\t', index_col=0)\n",
    "df.head()"
   ],
   "metadata": {
    "collapsed": false
   }
  },
  {
   "cell_type": "code",
   "execution_count": 9,
   "outputs": [
    {
     "data": {
      "text/plain": "0"
     },
     "execution_count": 9,
     "metadata": {},
     "output_type": "execute_result"
    }
   ],
   "source": [],
   "metadata": {
    "collapsed": false
   }
  },
  {
   "cell_type": "code",
   "execution_count": null,
   "outputs": [],
   "source": [
    "class CustomDataset(Dataset):\n",
    "    def __init__(self, df, transforms=None):\n",
    "        self.labels = df['box']\n",
    "        self.images = df['file_name']\n",
    "        self.transform = transforms\n",
    "\n",
    "    def __len__(self):\n",
    "        return self.images.shape[0]\n",
    "\n",
    "    def __getitem__(self, idx):\n",
    "        path = 'train/' + self.images.iloc[idx]\n",
    "        image = Image.open(path).convert('RGB').resize((1920, 1080))\n",
    "        label = json.loads(self.labels.iloc[idx])\n",
    "        if self.transform:\n",
    "            image = self.transform(image)\n",
    "        return image, label\n",
    "\n",
    "BATCH_SIZE = 70\n",
    "IMAGE_SIZE = 112\n",
    "\n",
    "train_transform = transforms.Compose([\n",
    "    transforms.ToTensor(),\n",
    "    transforms.Normalize([0.485, 0.456, 0.406], [0.229, 0.224, 0.225])\n",
    "])\n",
    "\n",
    "\n",
    "train_data = CustomDataset(df, transforms= train_transform)\n",
    "train_loader = DataLoader(train_data, batch_size=BATCH_SIZE, shuffle=True)"
   ],
   "metadata": {
    "collapsed": false
   }
  }
 ],
 "metadata": {
  "kernelspec": {
   "display_name": "Python 3",
   "language": "python",
   "name": "python3"
  },
  "language_info": {
   "codemirror_mode": {
    "name": "ipython",
    "version": 2
   },
   "file_extension": ".py",
   "mimetype": "text/x-python",
   "name": "python",
   "nbconvert_exporter": "python",
   "pygments_lexer": "ipython2",
   "version": "2.7.6"
  }
 },
 "nbformat": 4,
 "nbformat_minor": 0
}
