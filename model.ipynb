{
 "cells": [
  {
   "cell_type": "code",
   "execution_count": 1,
   "metadata": {
    "tags": []
   },
   "outputs": [],
   "source": [
    "import numpy as np\n",
    "import pandas as pd\n",
    "import matplotlib.pyplot as plt\n",
    "\n",
    "import os\n",
    "import json\n",
    "from pandas.io.json import json_normalize\n",
    "\n",
    "import torch\n",
    "from torchvision import transforms\n",
    "from torch.utils.data import Dataset, DataLoader\n",
    "from PIL import Image\n",
    "\n",
    "%matplotlib inline\n",
    "from cv2 import cv2\n",
    "\n",
    "from IPython.display import clear_output\n",
    "import time"
   ]
  },
  {
   "cell_type": "code",
   "execution_count": 2,
   "metadata": {},
   "outputs": [],
   "source": [
    "from torch import optim"
   ]
  },
  {
   "cell_type": "code",
   "execution_count": 3,
   "metadata": {},
   "outputs": [],
   "source": [
    "#!git clone https://github.com/ultralytics/yolov5\n",
    "#!pip install -qr ./yolov5/requirements.txt"
   ]
  },
  {
   "cell_type": "code",
   "execution_count": 4,
   "metadata": {},
   "outputs": [],
   "source": [
    "from yolov5 import train, val, detect\n",
    "from yolov5.utils import metrics"
   ]
  },
  {
   "cell_type": "code",
   "execution_count": 5,
   "metadata": {
    "collapsed": false,
    "jupyter": {
     "outputs_hidden": false
    }
   },
   "outputs": [
    {
     "name": "stdout",
     "output_type": "stream",
     "text": [
      "archives\t\t\t     runs\n",
      "data_my.yaml\t\t\t     runs_test\n",
      "dataset\t\t\t\t     runs_train\n",
      "data.yaml\t\t\t     seq_dataset\n",
      "gps_locations.json\t\t     test\n",
      "iwildcam2022_mdv4_detections.json    train\n",
      "iwildcam2022_test_information.json   train1\n",
      "iwildcam2022_train_annotations.json  train_sequence_counts.csv\n",
      "processed_test.csv\t\t     yolov5s.pt\n",
      "processed_train.csv\n"
     ]
    }
   ],
   "source": [
    "if False:\n",
    "    os.chdir('data')\n",
    "    data_location = 'data'\n",
    "else:\n",
    "    os.chdir('/media/danil-pass123/Новый том/DataSet')\n",
    "    data_location = '/media/danil-pass123/Новый том/DataSet'\n",
    "!ls"
   ]
  },
  {
   "cell_type": "markdown",
   "metadata": {
    "tags": []
   },
   "source": [
    "# Load data"
   ]
  },
  {
   "cell_type": "code",
   "execution_count": 10,
   "metadata": {
    "collapsed": false,
    "jupyter": {
     "outputs_hidden": false
    }
   },
   "outputs": [],
   "source": [
    "#def get_label(filename: str, labels: list[dict]):\n",
    "def get_label(filename, labels):\n",
    "    row = next((x for x in labels if filename == x['file']), [None])\n",
    "    if row is None:\n",
    "        return row\n",
    "    detections = row['detections']\n",
    "    filtered_detections = list(filter(lambda x: x['category'] == '1' and x['conf'] > 0.5, detections))\n",
    "    bboxes = list(map(lambda x: x['bbox'], filtered_detections))\n",
    "    return json.dumps(bboxes)"
   ]
  },
  {
   "cell_type": "markdown",
   "metadata": {},
   "source": [
    "To make a pytorch dataset we extract filenames from json file. Extracting label was a harder, because we need to extract one json and for every record we need to take filename and match it with record's filename from another json(basically it is similar to SQL `JOIN ON`), taking needed fields, filter by 'category' and confidence, and converting it to json string, for easy reading and saving. We save a progress in csv file, so we can always read it, instead of executing everything again. Dataset consist of taking image paths from our csv, reading it, resizing it, converting to rgb, and converting it to tensors. Right now dataset consist of images(that's why we use results from a pretrained model, as they are written for images, instead of `train_sequence_counts`), later it may change to sequences of images."
   ]
  },
  {
   "cell_type": "code",
   "execution_count": 11,
   "metadata": {
    "collapsed": false,
    "jupyter": {
     "outputs_hidden": false
    }
   },
   "outputs": [],
   "source": [
    "#def get_data(images_json_path: str, labels_json_path: str, train: bool = True):\n",
    "def get_data(images_json_path, labels_json_path, train = True):\n",
    "    d = None\n",
    "    with open(labels_json_path) as f:\n",
    "        d = json.load(f)\n",
    "    labels = d['images']\n",
    "\n",
    "    with open(images_json_path) as f:\n",
    "        d = json.load(f)\n",
    "    images = json_normalize(data=d['images'],\n",
    "                   meta=['seq_num_frames', 'location', 'datetime', 'id', 'seq_id', 'width', 'height', 'file_name', 'sub_location', 'seq_frame_num'])\n",
    "    # annotations_df = json_normalize(data=d['annotations'],\n",
    "    #                              meta=['id', 'image_id', 'category_id'])\n",
    "    # categories_df = json_normalize(data=d['categories'],\n",
    "    #                             meta=['id', 'name'])\n",
    "\n",
    "    # return get_label('train/' + images.iloc[0]['file_name'], labels)\n",
    "    get_path = lambda x: get_label(filename=(('train/' if train else 'test/') + x['file_name']), labels=labels)\n",
    "    images['box'] = images.apply(get_path, axis=1)\n",
    "    return images"
   ]
  },
  {
   "cell_type": "code",
   "execution_count": 12,
   "metadata": {
    "collapsed": false,
    "jupyter": {
     "outputs_hidden": false
    }
   },
   "outputs": [],
   "source": [
    "#df = get_data('iwildcam2022_train_annotations.json', 'iwildcam2022_mdv4_detections.json', train=True)\n",
    "#df = get_data('iwildcam2022_test_information.json', 'iwildcam2022_mdv4_detections.json', train=False)"
   ]
  },
  {
   "cell_type": "code",
   "execution_count": 13,
   "metadata": {
    "collapsed": false,
    "jupyter": {
     "outputs_hidden": false
    }
   },
   "outputs": [],
   "source": [
    "#df.head(5)"
   ]
  },
  {
   "cell_type": "code",
   "execution_count": 14,
   "metadata": {
    "collapsed": false,
    "jupyter": {
     "outputs_hidden": false
    }
   },
   "outputs": [],
   "source": [
    "#df.to_csv('processed_train.csv', sep='\\t')\n",
    "#df.to_csv('processed_test.csv', sep='\\t')"
   ]
  },
  {
   "cell_type": "code",
   "execution_count": 15,
   "metadata": {},
   "outputs": [
    {
     "data": {
      "text/html": [
       "<div>\n",
       "<style scoped>\n",
       "    .dataframe tbody tr th:only-of-type {\n",
       "        vertical-align: middle;\n",
       "    }\n",
       "\n",
       "    .dataframe tbody tr th {\n",
       "        vertical-align: top;\n",
       "    }\n",
       "\n",
       "    .dataframe thead th {\n",
       "        text-align: right;\n",
       "    }\n",
       "</style>\n",
       "<table border=\"1\" class=\"dataframe\">\n",
       "  <thead>\n",
       "    <tr style=\"text-align: right;\">\n",
       "      <th></th>\n",
       "      <th>seq_num_frames</th>\n",
       "      <th>location</th>\n",
       "      <th>datetime</th>\n",
       "      <th>id</th>\n",
       "      <th>seq_id</th>\n",
       "      <th>...</th>\n",
       "      <th>height</th>\n",
       "      <th>file_name</th>\n",
       "      <th>sub_location</th>\n",
       "      <th>seq_frame_num</th>\n",
       "      <th>box</th>\n",
       "    </tr>\n",
       "  </thead>\n",
       "  <tbody>\n",
       "    <tr>\n",
       "      <th>0</th>\n",
       "      <td>6</td>\n",
       "      <td>3</td>\n",
       "      <td>2013-06-05 05:44:19.000</td>\n",
       "      <td>8b02698a-21bc-11ea-a13a-137349068a90</td>\n",
       "      <td>30048d32-7d42-11eb-8fb5-0242ac1c0002</td>\n",
       "      <td>...</td>\n",
       "      <td>1080</td>\n",
       "      <td>8b02698a-21bc-11ea-a13a-137349068a90.jpg</td>\n",
       "      <td>0.0</td>\n",
       "      <td>0</td>\n",
       "      <td>[[0, 0.091, 0.983, 0.876]]</td>\n",
       "    </tr>\n",
       "    <tr>\n",
       "      <th>1</th>\n",
       "      <td>6</td>\n",
       "      <td>3</td>\n",
       "      <td>2013-06-05 05:44:20.000</td>\n",
       "      <td>8e5b81de-21bc-11ea-a13a-137349068a90</td>\n",
       "      <td>30048d32-7d42-11eb-8fb5-0242ac1c0002</td>\n",
       "      <td>...</td>\n",
       "      <td>1080</td>\n",
       "      <td>8e5b81de-21bc-11ea-a13a-137349068a90.jpg</td>\n",
       "      <td>0.0</td>\n",
       "      <td>1</td>\n",
       "      <td>[[0.193, 0.261, 0.803, 0.714]]</td>\n",
       "    </tr>\n",
       "    <tr>\n",
       "      <th>2</th>\n",
       "      <td>6</td>\n",
       "      <td>3</td>\n",
       "      <td>2013-06-05 05:44:21.000</td>\n",
       "      <td>8c6be0e4-21bc-11ea-a13a-137349068a90</td>\n",
       "      <td>30048d32-7d42-11eb-8fb5-0242ac1c0002</td>\n",
       "      <td>...</td>\n",
       "      <td>1080</td>\n",
       "      <td>8c6be0e4-21bc-11ea-a13a-137349068a90.jpg</td>\n",
       "      <td>0.0</td>\n",
       "      <td>2</td>\n",
       "      <td>[[0.717, 0.412, 0.282, 0.558]]</td>\n",
       "    </tr>\n",
       "    <tr>\n",
       "      <th>3</th>\n",
       "      <td>6</td>\n",
       "      <td>3</td>\n",
       "      <td>2013-06-05 05:44:22.000</td>\n",
       "      <td>8fdf7998-21bc-11ea-a13a-137349068a90</td>\n",
       "      <td>30048d32-7d42-11eb-8fb5-0242ac1c0002</td>\n",
       "      <td>...</td>\n",
       "      <td>1080</td>\n",
       "      <td>8fdf7998-21bc-11ea-a13a-137349068a90.jpg</td>\n",
       "      <td>0.0</td>\n",
       "      <td>3</td>\n",
       "      <td>[[0.772, 0.474, 0.226, 0.504]]</td>\n",
       "    </tr>\n",
       "    <tr>\n",
       "      <th>4</th>\n",
       "      <td>6</td>\n",
       "      <td>3</td>\n",
       "      <td>2013-06-05 05:44:23.000</td>\n",
       "      <td>96093c50-21bc-11ea-a13a-137349068a90</td>\n",
       "      <td>30048d32-7d42-11eb-8fb5-0242ac1c0002</td>\n",
       "      <td>...</td>\n",
       "      <td>1080</td>\n",
       "      <td>96093c50-21bc-11ea-a13a-137349068a90.jpg</td>\n",
       "      <td>0.0</td>\n",
       "      <td>4</td>\n",
       "      <td>[[0.862, 0.539, 0.136, 0.43]]</td>\n",
       "    </tr>\n",
       "  </tbody>\n",
       "</table>\n",
       "<p>5 rows × 11 columns</p>\n",
       "</div>"
      ],
      "text/plain": [
       "   seq_num_frames  location                 datetime  \\\n",
       "0               6         3  2013-06-05 05:44:19.000   \n",
       "1               6         3  2013-06-05 05:44:20.000   \n",
       "2               6         3  2013-06-05 05:44:21.000   \n",
       "3               6         3  2013-06-05 05:44:22.000   \n",
       "4               6         3  2013-06-05 05:44:23.000   \n",
       "\n",
       "                                     id                                seq_id  \\\n",
       "0  8b02698a-21bc-11ea-a13a-137349068a90  30048d32-7d42-11eb-8fb5-0242ac1c0002   \n",
       "1  8e5b81de-21bc-11ea-a13a-137349068a90  30048d32-7d42-11eb-8fb5-0242ac1c0002   \n",
       "2  8c6be0e4-21bc-11ea-a13a-137349068a90  30048d32-7d42-11eb-8fb5-0242ac1c0002   \n",
       "3  8fdf7998-21bc-11ea-a13a-137349068a90  30048d32-7d42-11eb-8fb5-0242ac1c0002   \n",
       "4  96093c50-21bc-11ea-a13a-137349068a90  30048d32-7d42-11eb-8fb5-0242ac1c0002   \n",
       "\n",
       "   ...  height                                 file_name sub_location  \\\n",
       "0  ...    1080  8b02698a-21bc-11ea-a13a-137349068a90.jpg          0.0   \n",
       "1  ...    1080  8e5b81de-21bc-11ea-a13a-137349068a90.jpg          0.0   \n",
       "2  ...    1080  8c6be0e4-21bc-11ea-a13a-137349068a90.jpg          0.0   \n",
       "3  ...    1080  8fdf7998-21bc-11ea-a13a-137349068a90.jpg          0.0   \n",
       "4  ...    1080  96093c50-21bc-11ea-a13a-137349068a90.jpg          0.0   \n",
       "\n",
       "   seq_frame_num                             box  \n",
       "0              0      [[0, 0.091, 0.983, 0.876]]  \n",
       "1              1  [[0.193, 0.261, 0.803, 0.714]]  \n",
       "2              2  [[0.717, 0.412, 0.282, 0.558]]  \n",
       "3              3  [[0.772, 0.474, 0.226, 0.504]]  \n",
       "4              4   [[0.862, 0.539, 0.136, 0.43]]  \n",
       "\n",
       "[5 rows x 11 columns]"
      ]
     },
     "execution_count": 15,
     "metadata": {},
     "output_type": "execute_result"
    }
   ],
   "source": [
    "df = pd.read_csv('processed_train.csv', sep='\\t', index_col=0)\n",
    "df.head(5)"
   ]
  },
  {
   "cell_type": "code",
   "execution_count": 16,
   "metadata": {
    "collapsed": false,
    "jupyter": {
     "outputs_hidden": false
    }
   },
   "outputs": [
    {
     "data": {
      "text/html": [
       "<div>\n",
       "<style scoped>\n",
       "    .dataframe tbody tr th:only-of-type {\n",
       "        vertical-align: middle;\n",
       "    }\n",
       "\n",
       "    .dataframe tbody tr th {\n",
       "        vertical-align: top;\n",
       "    }\n",
       "\n",
       "    .dataframe thead th {\n",
       "        text-align: right;\n",
       "    }\n",
       "</style>\n",
       "<table border=\"1\" class=\"dataframe\">\n",
       "  <thead>\n",
       "    <tr style=\"text-align: right;\">\n",
       "      <th></th>\n",
       "      <th>height</th>\n",
       "      <th>id</th>\n",
       "      <th>seq_id</th>\n",
       "      <th>location</th>\n",
       "      <th>width</th>\n",
       "      <th>...</th>\n",
       "      <th>file_name</th>\n",
       "      <th>seq_frame_num</th>\n",
       "      <th>seq_num_frames</th>\n",
       "      <th>sub_location</th>\n",
       "      <th>box</th>\n",
       "    </tr>\n",
       "  </thead>\n",
       "  <tbody>\n",
       "    <tr>\n",
       "      <th>0</th>\n",
       "      <td>1024</td>\n",
       "      <td>8b31d3be-21bc-11ea-a13a-137349068a90</td>\n",
       "      <td>a91ebc18-0cd3-11eb-bed1-0242ac1c0002</td>\n",
       "      <td>20</td>\n",
       "      <td>1280</td>\n",
       "      <td>...</td>\n",
       "      <td>8b31d3be-21bc-11ea-a13a-137349068a90.jpg</td>\n",
       "      <td>0</td>\n",
       "      <td>10</td>\n",
       "      <td>NaN</td>\n",
       "      <td>[[0, 0.55, 0.558, 0.438]]</td>\n",
       "    </tr>\n",
       "    <tr>\n",
       "      <th>1</th>\n",
       "      <td>1024</td>\n",
       "      <td>8cf202be-21bc-11ea-a13a-137349068a90</td>\n",
       "      <td>a91ebc18-0cd3-11eb-bed1-0242ac1c0002</td>\n",
       "      <td>20</td>\n",
       "      <td>1280</td>\n",
       "      <td>...</td>\n",
       "      <td>8cf202be-21bc-11ea-a13a-137349068a90.jpg</td>\n",
       "      <td>1</td>\n",
       "      <td>10</td>\n",
       "      <td>NaN</td>\n",
       "      <td>[[0, 0.557, 0.684, 0.431]]</td>\n",
       "    </tr>\n",
       "    <tr>\n",
       "      <th>2</th>\n",
       "      <td>1024</td>\n",
       "      <td>8a87e62e-21bc-11ea-a13a-137349068a90</td>\n",
       "      <td>a91ebc18-0cd3-11eb-bed1-0242ac1c0002</td>\n",
       "      <td>20</td>\n",
       "      <td>1280</td>\n",
       "      <td>...</td>\n",
       "      <td>8a87e62e-21bc-11ea-a13a-137349068a90.jpg</td>\n",
       "      <td>2</td>\n",
       "      <td>10</td>\n",
       "      <td>NaN</td>\n",
       "      <td>[[0, 0.418, 0.712, 0.581]]</td>\n",
       "    </tr>\n",
       "    <tr>\n",
       "      <th>3</th>\n",
       "      <td>1024</td>\n",
       "      <td>8e6994f4-21bc-11ea-a13a-137349068a90</td>\n",
       "      <td>a91ebc18-0cd3-11eb-bed1-0242ac1c0002</td>\n",
       "      <td>20</td>\n",
       "      <td>1280</td>\n",
       "      <td>...</td>\n",
       "      <td>8e6994f4-21bc-11ea-a13a-137349068a90.jpg</td>\n",
       "      <td>3</td>\n",
       "      <td>10</td>\n",
       "      <td>NaN</td>\n",
       "      <td>[[0, 0.402, 0.673, 0.584]]</td>\n",
       "    </tr>\n",
       "    <tr>\n",
       "      <th>4</th>\n",
       "      <td>1024</td>\n",
       "      <td>948b29e2-21bc-11ea-a13a-137349068a90</td>\n",
       "      <td>a91ebc18-0cd3-11eb-bed1-0242ac1c0002</td>\n",
       "      <td>20</td>\n",
       "      <td>1280</td>\n",
       "      <td>...</td>\n",
       "      <td>948b29e2-21bc-11ea-a13a-137349068a90.jpg</td>\n",
       "      <td>4</td>\n",
       "      <td>10</td>\n",
       "      <td>NaN</td>\n",
       "      <td>[[0, 0.547, 0.693, 0.439]]</td>\n",
       "    </tr>\n",
       "  </tbody>\n",
       "</table>\n",
       "<p>5 rows × 11 columns</p>\n",
       "</div>"
      ],
      "text/plain": [
       "   height                                    id  \\\n",
       "0    1024  8b31d3be-21bc-11ea-a13a-137349068a90   \n",
       "1    1024  8cf202be-21bc-11ea-a13a-137349068a90   \n",
       "2    1024  8a87e62e-21bc-11ea-a13a-137349068a90   \n",
       "3    1024  8e6994f4-21bc-11ea-a13a-137349068a90   \n",
       "4    1024  948b29e2-21bc-11ea-a13a-137349068a90   \n",
       "\n",
       "                                 seq_id  location  width  ...  \\\n",
       "0  a91ebc18-0cd3-11eb-bed1-0242ac1c0002        20   1280  ...   \n",
       "1  a91ebc18-0cd3-11eb-bed1-0242ac1c0002        20   1280  ...   \n",
       "2  a91ebc18-0cd3-11eb-bed1-0242ac1c0002        20   1280  ...   \n",
       "3  a91ebc18-0cd3-11eb-bed1-0242ac1c0002        20   1280  ...   \n",
       "4  a91ebc18-0cd3-11eb-bed1-0242ac1c0002        20   1280  ...   \n",
       "\n",
       "                                  file_name seq_frame_num  seq_num_frames  \\\n",
       "0  8b31d3be-21bc-11ea-a13a-137349068a90.jpg             0              10   \n",
       "1  8cf202be-21bc-11ea-a13a-137349068a90.jpg             1              10   \n",
       "2  8a87e62e-21bc-11ea-a13a-137349068a90.jpg             2              10   \n",
       "3  8e6994f4-21bc-11ea-a13a-137349068a90.jpg             3              10   \n",
       "4  948b29e2-21bc-11ea-a13a-137349068a90.jpg             4              10   \n",
       "\n",
       "   sub_location                         box  \n",
       "0           NaN   [[0, 0.55, 0.558, 0.438]]  \n",
       "1           NaN  [[0, 0.557, 0.684, 0.431]]  \n",
       "2           NaN  [[0, 0.418, 0.712, 0.581]]  \n",
       "3           NaN  [[0, 0.402, 0.673, 0.584]]  \n",
       "4           NaN  [[0, 0.547, 0.693, 0.439]]  \n",
       "\n",
       "[5 rows x 11 columns]"
      ]
     },
     "execution_count": 16,
     "metadata": {},
     "output_type": "execute_result"
    }
   ],
   "source": [
    "df = pd.read_csv('processed_test.csv', sep='\\t', index_col=0)\n",
    "df.head(5)"
   ]
  },
  {
   "cell_type": "code",
   "execution_count": 17,
   "metadata": {
    "collapsed": false,
    "jupyter": {
     "outputs_hidden": false
    }
   },
   "outputs": [],
   "source": [
    "#def parse_bbox_tuple(labels: tuple[str]):\n",
    "def parse_bbox_tuple(labels):\n",
    "    return [json.loads(l) for l in labels]\n",
    "\n",
    "class CustomDataset(Dataset):\n",
    "    def __init__(self, df, train: bool = True):\n",
    "        self.labels = df['box']\n",
    "        self.images = df['file_name']\n",
    "        self.train = train\n",
    "\n",
    "    def __len__(self):\n",
    "        return self.images.shape[0]\n",
    "\n",
    "    def __getitem__(self, idx):\n",
    "        image = ('train/' if self.train else 'test/') + self.images.iloc[idx]\n",
    "        label = self.labels.iloc[idx]\n",
    "        return image, label\n",
    "\n",
    "BATCH_SIZE = 10\n",
    "\n",
    "# full_hd_df = df[df[\"width\"]==1920]\n",
    "hd_df = df[(df[\"height\"]==720) & (df[\"width\"]==1280)]\n",
    "\n",
    "#train_data = CustomDataset(hd_df, train=True)\n",
    "#train_loader = DataLoader(test_data, batch_size=BATCH_SIZE, shuffle=True)\n",
    "\n",
    "test_data = CustomDataset(hd_df, train=False)\n",
    "test_loader = DataLoader(test_data, batch_size=BATCH_SIZE, shuffle=True)"
   ]
  },
  {
   "cell_type": "markdown",
   "metadata": {
    "tags": []
   },
   "source": [
    "# Preprocess dataset"
   ]
  },
  {
   "cell_type": "code",
   "execution_count": 6,
   "metadata": {},
   "outputs": [],
   "source": [
    "def convert_str_to_list(str_list):\n",
    "    res_list = []\n",
    "    i = 1\n",
    "    while i < len(str_list):\n",
    "        start = 0\n",
    "        if str_list[i]=='[':\n",
    "            start = i+1\n",
    "            while str_list[i]!=']':\n",
    "                i+=1\n",
    "            end = i\n",
    "\n",
    "            if start!=end:\n",
    "                res_list.append(list( \n",
    "                                map(float,\n",
    "                                str_list[start:end].split(', ')) \n",
    "                            ))\n",
    "        i+=1\n",
    "    if len(res_list)==0:\n",
    "        return []\n",
    "    \n",
    "    return res_list\n",
    "\n",
    "#convert_str_to_list(df['box'][100])"
   ]
  },
  {
   "cell_type": "code",
   "execution_count": 7,
   "metadata": {},
   "outputs": [],
   "source": [
    "def load_labels(path,image_name,bbox_list):\n",
    "    label_file_name = image_name.split('.')[0] + '.txt'\n",
    "    with open(path+label_file_name,'w') as f:\n",
    "        for l in bbox_list:\n",
    "            line = \"1\"\n",
    "\n",
    "            for i in l:\n",
    "                line = line+\" \"+ str(i)\n",
    "            f.write(line)\n",
    "            f.write(\"\\n\")"
   ]
  },
  {
   "cell_type": "code",
   "execution_count": 8,
   "metadata": {},
   "outputs": [],
   "source": [
    "def process_label(box_string,file_name,dest_folder):\n",
    "    bbox = convert_str_to_list(box_string)\n",
    "    load_labels(dest_folder,file_name,bbox)"
   ]
  },
  {
   "cell_type": "code",
   "execution_count": 9,
   "metadata": {},
   "outputs": [
    {
     "data": {
      "text/plain": [
       "\"def check_image(path):\\n    with open(path, 'rb') as f:\\n        check_chars = f.read()[-2:]\\n    return  check_chars == b'ÿÙ'\""
      ]
     },
     "execution_count": 9,
     "metadata": {},
     "output_type": "execute_result"
    }
   ],
   "source": [
    "\"\"\"def check_image(path):\n",
    "    with open(path, 'rb') as f:\n",
    "        check_chars = f.read()[-2:]\n",
    "    return  check_chars == b'\\xff\\xd9'\"\"\""
   ]
  },
  {
   "cell_type": "code",
   "execution_count": 10,
   "metadata": {},
   "outputs": [],
   "source": [
    "def load_image(f_name,init_folder,dest_folder):\n",
    "    \n",
    "    if os.path.isfile(f'{init_folder}/{f_name}'):# and check_image(f'./{init_folder}/{f_name}'):\n",
    "        os.system(f'cp {init_folder}/{f_name} {dest_folder}/{f_name}')\n",
    "        return True\n",
    "    return False"
   ]
  },
  {
   "cell_type": "code",
   "execution_count": 11,
   "metadata": {},
   "outputs": [
    {
     "data": {
      "text/plain": [
       "'\\ndf = pd.read_csv(\\'processed_train.csv\\', sep=\\'\\t\\', index_col=0)\\n\\nstat_h_w = {\"width\":[],\"height\":[],\"counts\":[]}\\nhw = df[[\\'height\\',\\'width\\']]\\nfor h in np.unique(df[\\'height\\']):\\n    for w in np.unique(df[\\'width\\']):\\n        stat_h_w[\"width\"].append(w)\\n        stat_h_w[\"height\"].append(h)\\n        \\n        stat_h_w[\"counts\"].append(((hw[\\'height\\']==h) & (hw[\\'width\\']==w)).sum())\\n\\nstat_h_w = pd.DataFrame(stat_h_w)    \\nstat_h_w.sort_values(by=[\\'counts\\'],ascending=False)\\n'"
      ]
     },
     "execution_count": 11,
     "metadata": {},
     "output_type": "execute_result"
    }
   ],
   "source": [
    "\"\"\"\n",
    "df = pd.read_csv('processed_train.csv', sep='\\t', index_col=0)\n",
    "\n",
    "stat_h_w = {\"width\":[],\"height\":[],\"counts\":[]}\n",
    "hw = df[['height','width']]\n",
    "for h in np.unique(df['height']):\n",
    "    for w in np.unique(df['width']):\n",
    "        stat_h_w[\"width\"].append(w)\n",
    "        stat_h_w[\"height\"].append(h)\n",
    "        \n",
    "        stat_h_w[\"counts\"].append(((hw['height']==h) & (hw['width']==w)).sum())\n",
    "\n",
    "stat_h_w = pd.DataFrame(stat_h_w)    \n",
    "stat_h_w.sort_values(by=['counts'],ascending=False)\n",
    "\"\"\""
   ]
  },
  {
   "cell_type": "code",
   "execution_count": 12,
   "metadata": {},
   "outputs": [
    {
     "data": {
      "text/plain": [
       "0"
      ]
     },
     "execution_count": 12,
     "metadata": {},
     "output_type": "execute_result"
    }
   ],
   "source": [
    "#Remove images if needed\n",
    "\n",
    "os.system(\"rm -r dataset/images/train/*\")\n",
    "os.system(\"rm -r dataset/images/test/*\")\n",
    "os.system(\"rm -r dataset/images/val/*\")\n",
    "os.system(\"rm -r dataset/labels/train/*\")\n",
    "os.system(\"rm -r dataset/labels/val/*\")"
   ]
  },
  {
   "cell_type": "code",
   "execution_count": 13,
   "metadata": {},
   "outputs": [],
   "source": [
    "class Dataset_Descriptor:\n",
    "    DATASET_LOCATION = \"dataset\"\n",
    "    LOAD_TYPES = [\"train\",\"val\",\"test\"]\n",
    "    DATASET_INIT_LOCATION = {\"train\":\"train1/train/\",\n",
    "                             \"val\":\"train1/train/\",\n",
    "                             \"test\":\"test/\"}\n",
    "    DATASET_DEST_LOCATION = {\"images\":\n",
    "                            {\"train\":\"dataset/images/train/\",\n",
    "                             \"val\":\"dataset/images/val/\",\n",
    "                             \"test\":\"dataset/images/test/\"},\n",
    "                        \"labels\":\n",
    "                            {\"train\":\"dataset/labels/train/\",\n",
    "                             \"val\":\"dataset/labels/val/\",\n",
    "                             \"test\":\"dataset/labels/test/\"}}\n",
    "    def __init__(self,l_type,init_pos,sample_size):\n",
    "        self.l_type = l_type\n",
    "        self.image_dir = []\n",
    "        self.labels = []\n",
    "        self.seq_id = []\n",
    "        self.image_name = []\n",
    "        \n",
    "        self.pos = init_pos\n",
    "        self.sample_size = sample_size\n",
    "        \n",
    "        if self.l_type in [\"train\",\"val\"]:\n",
    "            df = pd.read_csv('processed_train.csv', sep='\\t', index_col=0)\n",
    "            df = df[(df[\"height\"]==1536) & (df[\"width\"]==2048)]\n",
    "            df = df.reset_index(drop=True)\n",
    "        else:\n",
    "            df = pd.read_csv('processed_test.csv', sep='\\t', index_col=0)\n",
    "            df = df[(df[\"height\"]==1536) & (df[\"width\"]==2048)]\n",
    "            df = df.reset_index(drop=True)\n",
    "        \n",
    "        self.pos = self.search_images(df = df,l_type = self.l_type,\n",
    "                  init_pos = self.pos,set_size = self.sample_size)\n",
    "        \n",
    "    \"\"\"def __del__(self):\n",
    "        os.system(\"rm -r dataset/images/train/*\")\n",
    "        os.system(\"rm -r dataset/images/test/*\")\n",
    "        os.system(\"rm -r dataset/images/val/*\")\n",
    "        os.system(\"rm -r dataset/labels/train/*\")\n",
    "        os.system(\"rm -r dataset/labels/val/*\")\"\"\"\n",
    "        \n",
    "    def search_images(self,df,l_type,init_pos,set_size):\n",
    "    \n",
    "        init_path = Dataset_Descriptor.DATASET_INIT_LOCATION[l_type]\n",
    "        dest_path_i = Dataset_Descriptor.DATASET_DEST_LOCATION[\"images\"][l_type]\n",
    "        dest_path_l = Dataset_Descriptor.DATASET_DEST_LOCATION[\"labels\"][l_type]\n",
    "        \n",
    "        while set_size>0:\n",
    "\n",
    "            res = load_image(f_name = df['file_name'][init_pos],\n",
    "                       init_folder = init_path,\n",
    "                       dest_folder = dest_path_i)\n",
    "            if res:\n",
    "                self.image_dir.append(f\"{dest_path_i}/{df['file_name'][init_pos]}\")\n",
    "                labels_array = convert_str_to_list(df['box'][init_pos])\n",
    "                labels_array = np.array(labels_array) if len(labels_array)>0 else np.array([-5,-5,-5,-5])\n",
    "                self.labels.append(labels_array )\n",
    "                self.seq_id.append(df['seq_id'][init_pos])\n",
    "                self.image_name.append(df['id'][init_pos])\n",
    "                \n",
    "                if l_type in [\"train\",\"val\"]:\n",
    "                    process_label(box_string = df['box'][init_pos],\n",
    "                                  file_name = df['file_name'][init_pos],\n",
    "                                  dest_folder = dest_path_l)\n",
    "                set_size-=1\n",
    "            init_pos += 1\n",
    "        return init_pos\n",
    "\n",
    "\n",
    "data_descriptor_train = Dataset_Descriptor(l_type=\"train\",init_pos=0,sample_size=100)\n",
    "data_descriptor_val = Dataset_Descriptor(l_type=\"val\",init_pos=data_descriptor_train.pos,sample_size=200)\n",
    "data_descriptor_test = Dataset_Descriptor(l_type=\"test\",init_pos=0,sample_size=100)"
   ]
  },
  {
   "cell_type": "markdown",
   "metadata": {
    "jupyter": {
     "outputs_hidden": false
    },
    "tags": []
   },
   "source": [
    "# Model"
   ]
  },
  {
   "cell_type": "markdown",
   "metadata": {
    "jp-MarkdownHeadingCollapsed": true,
    "tags": []
   },
   "source": [
    "## Train from zero"
   ]
  },
  {
   "cell_type": "code",
   "execution_count": 191,
   "metadata": {},
   "outputs": [
    {
     "name": "stdout",
     "output_type": "stream",
     "text": [
      "dataset.zip  model-Copy1.ipynb\tmodel.ipynb  Sequence_Dataset  yolov5\n",
      "data.yaml    model_count.ipynb\truns\t     yolov3.cfg\n"
     ]
    }
   ],
   "source": [
    "!ls "
   ]
  },
  {
   "cell_type": "code",
   "execution_count": null,
   "metadata": {},
   "outputs": [
    {
     "name": "stderr",
     "output_type": "stream",
     "text": [
      "\u001b[34m\u001b[1mtrain: \u001b[0mweights=yolov5/yolov5s.pt, cfg=, data=data_my.yaml, hyp=yolov5/data/hyps/hyp.scratch-low.yaml, epochs=20, batch_size=10, imgsz=640, rect=False, resume=False, nosave=False, noval=False, noautoanchor=False, noplots=False, evolve=None, bucket=, cache=None, image_weights=False, device=cpu, multi_scale=False, single_cls=True, optimizer=SGD, sync_bn=False, workers=2, project=yolov5/runs/train, name=exp, exist_ok=False, quad=False, cos_lr=False, label_smoothing=0.0, patience=100, freeze=[0], save_period=-1, seed=0, local_rank=-1, entity=None, upload_dataset=False, bbox_interval=-1, artifact_alias=latest, tensorboard=True\n"
     ]
    }
   ],
   "source": [
    "#data_path = '/media/danil-pass123/Новый том/DataSet/data.yaml'\n",
    "data_path = 'data_my.yaml'\n",
    "\n",
    "train.run(data = data_path,epochs = 20,batch_size=10,single_cls= True,optimizer=\"SGD\",noplots=False,tensorboard=True,workers=2,device='cpu')"
   ]
  },
  {
   "cell_type": "markdown",
   "metadata": {
    "tags": []
   },
   "source": [
    "## Train"
   ]
  },
  {
   "cell_type": "code",
   "execution_count": 14,
   "metadata": {},
   "outputs": [
    {
     "name": "stdout",
     "output_type": "stream",
     "text": [
      "/media/danil-pass123/Новый том/DataSet\n"
     ]
    }
   ],
   "source": [
    "!pwd"
   ]
  },
  {
   "cell_type": "code",
   "execution_count": 15,
   "metadata": {},
   "outputs": [
    {
     "name": "stdout",
     "output_type": "stream",
     "text": [
      "archives\t\t\t     processed_train.csv\n",
      "data_my.yaml\t\t\t     runs\n",
      "dataset\t\t\t\t     seq_dataset\n",
      "data.yaml\t\t\t     test\n",
      "gps_locations.json\t\t     train\n",
      "iwildcam2022_mdv4_detections.json    train1\n",
      "iwildcam2022_test_information.json   train_sequence_counts.csv\n",
      "iwildcam2022_train_annotations.json  yolov5s.pt\n",
      "processed_test.csv\n"
     ]
    }
   ],
   "source": [
    "!ls"
   ]
  },
  {
   "cell_type": "code",
   "execution_count": 24,
   "metadata": {},
   "outputs": [
    {
     "name": "stderr",
     "output_type": "stream",
     "text": [
      "\u001b[34m\u001b[1mtrain: \u001b[0mweights=yolov5/yolov5s.pt, cfg=, data=/media/danil-pass123/Новый том/DataSet/data_my.yaml, hyp=yolov5/data/hyps/hyp.scratch-low.yaml, epochs=1, batch_size=1, imgsz=640, rect=False, resume=False, nosave=False, noval=False, noautoanchor=False, noplots=False, evolve=None, bucket=, cache=None, image_weights=False, device=cpu, multi_scale=False, single_cls=True, optimizer=SGD, sync_bn=False, workers=1, project=/media/danil-pass123/Новый том/DataSet/runs_train, name=exec_num, exist_ok=False, quad=False, cos_lr=False, label_smoothing=0.0, patience=100, freeze=[0], save_period=-1, seed=0, local_rank=-1, entity=None, upload_dataset=False, bbox_interval=-1, artifact_alias=latest, tensorboard=True\n",
      "Из https://github.com/ultralytics/yolov5\n",
      "   1510111..ff6e6e3  master     -> origin/master\n",
      "\u001b[34m\u001b[1mgithub: \u001b[0m⚠️ YOLOv5 is out of date by 18 commits. Use `git pull` or `git clone https://github.com/ultralytics/yolov5` to update.\n",
      "YOLOv5 🚀 v6.2-231-g0039870 Python-3.8.8 torch-1.12.1 CPU\n",
      "\n",
      "\u001b[34m\u001b[1mhyperparameters: \u001b[0mlr0=0.01, lrf=0.01, momentum=0.937, weight_decay=0.0005, warmup_epochs=3.0, warmup_momentum=0.8, warmup_bias_lr=0.1, box=0.05, cls=0.5, cls_pw=1.0, obj=1.0, obj_pw=1.0, iou_t=0.2, anchor_t=4.0, fl_gamma=0.0, hsv_h=0.015, hsv_s=0.7, hsv_v=0.4, degrees=0.0, translate=0.1, scale=0.5, shear=0.0, perspective=0.0, flipud=0.0, fliplr=0.5, mosaic=1.0, mixup=0.0, copy_paste=0.0\n",
      "\u001b[34m\u001b[1mClearML: \u001b[0mrun 'pip install clearml' to automatically track, visualize and remotely train YOLOv5 🚀 in ClearML\n",
      "\u001b[34m\u001b[1mComet: \u001b[0mrun 'pip install comet_ml' to automatically track and visualize YOLOv5 🚀 runs in Comet\n",
      "\u001b[34m\u001b[1mTensorBoard: \u001b[0mStart with 'tensorboard --logdir /media/danil-pass123/Новый том/DataSet/runs_train', view at http://localhost:6006/\n",
      "Overriding model.yaml nc=80 with nc=1\n",
      "\n",
      "                 from  n    params  module                                  arguments                     \n",
      "  0                -1  1      3520  models.common.Conv                      [3, 32, 6, 2, 2]              \n",
      "  1                -1  1     18560  models.common.Conv                      [32, 64, 3, 2]                \n",
      "  2                -1  1     18816  models.common.C3                        [64, 64, 1]                   \n",
      "  3                -1  1     73984  models.common.Conv                      [64, 128, 3, 2]               \n",
      "  4                -1  2    115712  models.common.C3                        [128, 128, 2]                 \n",
      "  5                -1  1    295424  models.common.Conv                      [128, 256, 3, 2]              \n",
      "  6                -1  3    625152  models.common.C3                        [256, 256, 3]                 \n",
      "  7                -1  1   1180672  models.common.Conv                      [256, 512, 3, 2]              \n",
      "  8                -1  1   1182720  models.common.C3                        [512, 512, 1]                 \n",
      "  9                -1  1    656896  models.common.SPPF                      [512, 512, 5]                 \n",
      " 10                -1  1    131584  models.common.Conv                      [512, 256, 1, 1]              \n",
      " 11                -1  1         0  torch.nn.modules.upsampling.Upsample    [None, 2, 'nearest']          \n",
      " 12           [-1, 6]  1         0  models.common.Concat                    [1]                           \n",
      " 13                -1  1    361984  models.common.C3                        [512, 256, 1, False]          \n",
      " 14                -1  1     33024  models.common.Conv                      [256, 128, 1, 1]              \n",
      " 15                -1  1         0  torch.nn.modules.upsampling.Upsample    [None, 2, 'nearest']          \n",
      " 16           [-1, 4]  1         0  models.common.Concat                    [1]                           \n",
      " 17                -1  1     90880  models.common.C3                        [256, 128, 1, False]          \n",
      " 18                -1  1    147712  models.common.Conv                      [128, 128, 3, 2]              \n",
      " 19          [-1, 14]  1         0  models.common.Concat                    [1]                           \n",
      " 20                -1  1    296448  models.common.C3                        [256, 256, 1, False]          \n",
      " 21                -1  1    590336  models.common.Conv                      [256, 256, 3, 2]              \n",
      " 22          [-1, 10]  1         0  models.common.Concat                    [1]                           \n",
      " 23                -1  1   1182720  models.common.C3                        [512, 512, 1, False]          \n",
      " 24      [17, 20, 23]  1     16182  models.yolo.Detect                      [1, [[10, 13, 16, 30, 33, 23], [30, 61, 62, 45, 59, 119], [116, 90, 156, 198, 373, 326]], [128, 256, 512]]\n",
      "Model summary: 214 layers, 7022326 parameters, 7022326 gradients, 15.9 GFLOPs\n",
      "\n",
      "Transferred 343/349 items from yolov5/yolov5s.pt\n",
      "\u001b[34m\u001b[1moptimizer:\u001b[0m SGD(lr=0.01) with parameter groups 57 weight(decay=0.0), 60 weight(decay=0.0005), 60 bias\n",
      "\u001b[34m\u001b[1mtrain: \u001b[0mScanning '/media/danil-pass123/Новый том/DataSet/dataset/labels/train.cac\u001b[0m\n",
      "\u001b[34m\u001b[1mval: \u001b[0mScanning '/media/danil-pass123/Новый том/DataSet/dataset/labels/val.cache' \u001b[0m\n",
      "\n",
      "\u001b[34m\u001b[1mAutoAnchor: \u001b[0m4.68 anchors/target, 1.000 Best Possible Recall (BPR). Current anchors are a good fit to dataset ✅\n",
      "Plotting labels to /media/danil-pass123/Новый том/DataSet/runs_train/exec_num2/labels.jpg... \n",
      "Plotting labels to /media/danil-pass123/Новый том/DataSet/runs_train/exec_num3/labels.jpg... \n",
      "Plotting labels to /media/danil-pass123/Новый том/DataSet/runs_train/exec_num4/labels.jpg... \n",
      "Image sizes 640 train, 640 val\n",
      "Using 0 dataloader workers\n",
      "Logging results to \u001b[1m/media/danil-pass123/Новый том/DataSet/runs_train/exec_num4\u001b[0m\n",
      "Starting training for 1 epochs...\n",
      "\n",
      "      Epoch    GPU_mem   box_loss   obj_loss   cls_loss  Instances       Size\n"
     ]
    },
    {
     "name": "stdout",
     "output_type": "stream",
     "text": [
      "\n"
     ]
    },
    {
     "name": "stderr",
     "output_type": "stream",
     "text": [
      "        0/0         0G          0    0.02504          0          0        640:  \n"
     ]
    },
    {
     "ename": "KeyboardInterrupt",
     "evalue": "",
     "output_type": "error",
     "traceback": [
      "\u001b[0;31m---------------------------------------------------------------------------\u001b[0m",
      "\u001b[0;31mKeyboardInterrupt\u001b[0m                         Traceback (most recent call last)",
      "\u001b[0;32m/tmp/ipykernel_46653/1106896660.py\u001b[0m in \u001b[0;36m<module>\u001b[0;34m\u001b[0m\n\u001b[1;32m      7\u001b[0m \u001b[0;34m\u001b[0m\u001b[0m\n\u001b[1;32m      8\u001b[0m \u001b[0;31m#data_path = 'data.yaml'\u001b[0m\u001b[0;34m\u001b[0m\u001b[0;34m\u001b[0m\u001b[0;34m\u001b[0m\u001b[0m\n\u001b[0;32m----> 9\u001b[0;31m train.run(data = data_path,epochs = 1,batch_size=1,\n\u001b[0m\u001b[1;32m     10\u001b[0m           \u001b[0msingle_cls\u001b[0m\u001b[0;34m=\u001b[0m \u001b[0;32mTrue\u001b[0m\u001b[0;34m,\u001b[0m\u001b[0moptimizer\u001b[0m\u001b[0;34m=\u001b[0m\u001b[0;34m\"SGD\"\u001b[0m\u001b[0;34m,\u001b[0m\u001b[0mtensorboard\u001b[0m\u001b[0;34m=\u001b[0m\u001b[0;32mTrue\u001b[0m\u001b[0;34m,\u001b[0m\u001b[0;34m\u001b[0m\u001b[0;34m\u001b[0m\u001b[0m\n\u001b[1;32m     11\u001b[0m           \u001b[0mworkers\u001b[0m\u001b[0;34m=\u001b[0m\u001b[0;36m1\u001b[0m\u001b[0;34m,\u001b[0m\u001b[0mdevice\u001b[0m\u001b[0;34m=\u001b[0m\u001b[0;34m'cpu'\u001b[0m\u001b[0;34m,\u001b[0m\u001b[0;34m\u001b[0m\u001b[0;34m\u001b[0m\u001b[0m\n",
      "\u001b[0;32m~/Desctop/semester7/PMLDL/Project/yolov5/train.py\u001b[0m in \u001b[0;36mrun\u001b[0;34m(**kwargs)\u001b[0m\n\u001b[1;32m    623\u001b[0m     \u001b[0;32mfor\u001b[0m \u001b[0mk\u001b[0m\u001b[0;34m,\u001b[0m \u001b[0mv\u001b[0m \u001b[0;32min\u001b[0m \u001b[0mkwargs\u001b[0m\u001b[0;34m.\u001b[0m\u001b[0mitems\u001b[0m\u001b[0;34m(\u001b[0m\u001b[0;34m)\u001b[0m\u001b[0;34m:\u001b[0m\u001b[0;34m\u001b[0m\u001b[0;34m\u001b[0m\u001b[0m\n\u001b[1;32m    624\u001b[0m         \u001b[0msetattr\u001b[0m\u001b[0;34m(\u001b[0m\u001b[0mopt\u001b[0m\u001b[0;34m,\u001b[0m \u001b[0mk\u001b[0m\u001b[0;34m,\u001b[0m \u001b[0mv\u001b[0m\u001b[0;34m)\u001b[0m\u001b[0;34m\u001b[0m\u001b[0;34m\u001b[0m\u001b[0m\n\u001b[0;32m--> 625\u001b[0;31m     \u001b[0mmain\u001b[0m\u001b[0;34m(\u001b[0m\u001b[0mopt\u001b[0m\u001b[0;34m)\u001b[0m\u001b[0;34m\u001b[0m\u001b[0;34m\u001b[0m\u001b[0m\n\u001b[0m\u001b[1;32m    626\u001b[0m     \u001b[0;32mreturn\u001b[0m \u001b[0mopt\u001b[0m\u001b[0;34m\u001b[0m\u001b[0;34m\u001b[0m\u001b[0m\n\u001b[1;32m    627\u001b[0m \u001b[0;34m\u001b[0m\u001b[0m\n",
      "\u001b[0;32m~/Desctop/semester7/PMLDL/Project/yolov5/train.py\u001b[0m in \u001b[0;36mmain\u001b[0;34m(opt, callbacks)\u001b[0m\n\u001b[1;32m    522\u001b[0m     \u001b[0;31m# Train\u001b[0m\u001b[0;34m\u001b[0m\u001b[0;34m\u001b[0m\u001b[0;34m\u001b[0m\u001b[0m\n\u001b[1;32m    523\u001b[0m     \u001b[0;32mif\u001b[0m \u001b[0;32mnot\u001b[0m \u001b[0mopt\u001b[0m\u001b[0;34m.\u001b[0m\u001b[0mevolve\u001b[0m\u001b[0;34m:\u001b[0m\u001b[0;34m\u001b[0m\u001b[0;34m\u001b[0m\u001b[0m\n\u001b[0;32m--> 524\u001b[0;31m         \u001b[0mtrain\u001b[0m\u001b[0;34m(\u001b[0m\u001b[0mopt\u001b[0m\u001b[0;34m.\u001b[0m\u001b[0mhyp\u001b[0m\u001b[0;34m,\u001b[0m \u001b[0mopt\u001b[0m\u001b[0;34m,\u001b[0m \u001b[0mdevice\u001b[0m\u001b[0;34m,\u001b[0m \u001b[0mcallbacks\u001b[0m\u001b[0;34m)\u001b[0m\u001b[0;34m\u001b[0m\u001b[0;34m\u001b[0m\u001b[0m\n\u001b[0m\u001b[1;32m    525\u001b[0m \u001b[0;34m\u001b[0m\u001b[0m\n\u001b[1;32m    526\u001b[0m     \u001b[0;31m# Evolve hyperparameters (optional)\u001b[0m\u001b[0;34m\u001b[0m\u001b[0;34m\u001b[0m\u001b[0;34m\u001b[0m\u001b[0m\n",
      "\u001b[0;32m~/Desctop/semester7/PMLDL/Project/yolov5/train.py\u001b[0m in \u001b[0;36mtrain\u001b[0;34m(hyp, opt, device, callbacks)\u001b[0m\n\u001b[1;32m    331\u001b[0m                 pbar.set_description(('%11s' * 2 + '%11.4g' * 5) %\n\u001b[1;32m    332\u001b[0m                                      (f'{epoch}/{epochs - 1}', mem, *mloss, targets.shape[0], imgs.shape[-1]))\n\u001b[0;32m--> 333\u001b[0;31m                 \u001b[0mcallbacks\u001b[0m\u001b[0;34m.\u001b[0m\u001b[0mrun\u001b[0m\u001b[0;34m(\u001b[0m\u001b[0;34m'on_train_batch_end'\u001b[0m\u001b[0;34m,\u001b[0m \u001b[0mmodel\u001b[0m\u001b[0;34m,\u001b[0m \u001b[0mni\u001b[0m\u001b[0;34m,\u001b[0m \u001b[0mimgs\u001b[0m\u001b[0;34m,\u001b[0m \u001b[0mtargets\u001b[0m\u001b[0;34m,\u001b[0m \u001b[0mpaths\u001b[0m\u001b[0;34m,\u001b[0m \u001b[0mlist\u001b[0m\u001b[0;34m(\u001b[0m\u001b[0mmloss\u001b[0m\u001b[0;34m)\u001b[0m\u001b[0;34m)\u001b[0m\u001b[0;34m\u001b[0m\u001b[0;34m\u001b[0m\u001b[0m\n\u001b[0m\u001b[1;32m    334\u001b[0m                 \u001b[0;32mif\u001b[0m \u001b[0mcallbacks\u001b[0m\u001b[0;34m.\u001b[0m\u001b[0mstop_training\u001b[0m\u001b[0;34m:\u001b[0m\u001b[0;34m\u001b[0m\u001b[0;34m\u001b[0m\u001b[0m\n\u001b[1;32m    335\u001b[0m                     \u001b[0;32mreturn\u001b[0m\u001b[0;34m\u001b[0m\u001b[0;34m\u001b[0m\u001b[0m\n",
      "\u001b[0;32m~/Desctop/semester7/PMLDL/Project/yolov5/utils/callbacks.py\u001b[0m in \u001b[0;36mrun\u001b[0;34m(self, hook, thread, *args, **kwargs)\u001b[0m\n\u001b[1;32m     74\u001b[0m                 \u001b[0mthreading\u001b[0m\u001b[0;34m.\u001b[0m\u001b[0mThread\u001b[0m\u001b[0;34m(\u001b[0m\u001b[0mtarget\u001b[0m\u001b[0;34m=\u001b[0m\u001b[0mlogger\u001b[0m\u001b[0;34m[\u001b[0m\u001b[0;34m'callback'\u001b[0m\u001b[0;34m]\u001b[0m\u001b[0;34m,\u001b[0m \u001b[0margs\u001b[0m\u001b[0;34m=\u001b[0m\u001b[0margs\u001b[0m\u001b[0;34m,\u001b[0m \u001b[0mkwargs\u001b[0m\u001b[0;34m=\u001b[0m\u001b[0mkwargs\u001b[0m\u001b[0;34m,\u001b[0m \u001b[0mdaemon\u001b[0m\u001b[0;34m=\u001b[0m\u001b[0;32mTrue\u001b[0m\u001b[0;34m)\u001b[0m\u001b[0;34m.\u001b[0m\u001b[0mstart\u001b[0m\u001b[0;34m(\u001b[0m\u001b[0;34m)\u001b[0m\u001b[0;34m\u001b[0m\u001b[0;34m\u001b[0m\u001b[0m\n\u001b[1;32m     75\u001b[0m             \u001b[0;32melse\u001b[0m\u001b[0;34m:\u001b[0m\u001b[0;34m\u001b[0m\u001b[0;34m\u001b[0m\u001b[0m\n\u001b[0;32m---> 76\u001b[0;31m                 \u001b[0mlogger\u001b[0m\u001b[0;34m[\u001b[0m\u001b[0;34m'callback'\u001b[0m\u001b[0;34m]\u001b[0m\u001b[0;34m(\u001b[0m\u001b[0;34m*\u001b[0m\u001b[0margs\u001b[0m\u001b[0;34m,\u001b[0m \u001b[0;34m**\u001b[0m\u001b[0mkwargs\u001b[0m\u001b[0;34m)\u001b[0m\u001b[0;34m\u001b[0m\u001b[0;34m\u001b[0m\u001b[0m\n\u001b[0m",
      "\u001b[0;32m~/Desctop/semester7/PMLDL/Project/yolov5/utils/loggers/__init__.py\u001b[0m in \u001b[0;36mon_train_batch_end\u001b[0;34m(self, model, ni, imgs, targets, paths, vals)\u001b[0m\n\u001b[1;32m    177\u001b[0m                 \u001b[0mplot_images\u001b[0m\u001b[0;34m(\u001b[0m\u001b[0mimgs\u001b[0m\u001b[0;34m,\u001b[0m \u001b[0mtargets\u001b[0m\u001b[0;34m,\u001b[0m \u001b[0mpaths\u001b[0m\u001b[0;34m,\u001b[0m \u001b[0mf\u001b[0m\u001b[0;34m)\u001b[0m\u001b[0;34m\u001b[0m\u001b[0;34m\u001b[0m\u001b[0m\n\u001b[1;32m    178\u001b[0m                 \u001b[0;32mif\u001b[0m \u001b[0mni\u001b[0m \u001b[0;34m==\u001b[0m \u001b[0;36m0\u001b[0m \u001b[0;32mand\u001b[0m \u001b[0mself\u001b[0m\u001b[0;34m.\u001b[0m\u001b[0mtb\u001b[0m \u001b[0;32mand\u001b[0m \u001b[0;32mnot\u001b[0m \u001b[0mself\u001b[0m\u001b[0;34m.\u001b[0m\u001b[0mopt\u001b[0m\u001b[0;34m.\u001b[0m\u001b[0msync_bn\u001b[0m\u001b[0;34m:\u001b[0m\u001b[0;34m\u001b[0m\u001b[0;34m\u001b[0m\u001b[0m\n\u001b[0;32m--> 179\u001b[0;31m                     \u001b[0mlog_tensorboard_graph\u001b[0m\u001b[0;34m(\u001b[0m\u001b[0mself\u001b[0m\u001b[0;34m.\u001b[0m\u001b[0mtb\u001b[0m\u001b[0;34m,\u001b[0m \u001b[0mmodel\u001b[0m\u001b[0;34m,\u001b[0m \u001b[0mimgsz\u001b[0m\u001b[0;34m=\u001b[0m\u001b[0;34m(\u001b[0m\u001b[0mself\u001b[0m\u001b[0;34m.\u001b[0m\u001b[0mopt\u001b[0m\u001b[0;34m.\u001b[0m\u001b[0mimgsz\u001b[0m\u001b[0;34m,\u001b[0m \u001b[0mself\u001b[0m\u001b[0;34m.\u001b[0m\u001b[0mopt\u001b[0m\u001b[0;34m.\u001b[0m\u001b[0mimgsz\u001b[0m\u001b[0;34m)\u001b[0m\u001b[0;34m)\u001b[0m\u001b[0;34m\u001b[0m\u001b[0;34m\u001b[0m\u001b[0m\n\u001b[0m\u001b[1;32m    180\u001b[0m             \u001b[0;32mif\u001b[0m \u001b[0mni\u001b[0m \u001b[0;34m==\u001b[0m \u001b[0;36m10\u001b[0m \u001b[0;32mand\u001b[0m \u001b[0;34m(\u001b[0m\u001b[0mself\u001b[0m\u001b[0;34m.\u001b[0m\u001b[0mwandb\u001b[0m \u001b[0;32mor\u001b[0m \u001b[0mself\u001b[0m\u001b[0;34m.\u001b[0m\u001b[0mclearml\u001b[0m\u001b[0;34m)\u001b[0m\u001b[0;34m:\u001b[0m\u001b[0;34m\u001b[0m\u001b[0;34m\u001b[0m\u001b[0m\n\u001b[1;32m    181\u001b[0m                 \u001b[0mfiles\u001b[0m \u001b[0;34m=\u001b[0m \u001b[0msorted\u001b[0m\u001b[0;34m(\u001b[0m\u001b[0mself\u001b[0m\u001b[0;34m.\u001b[0m\u001b[0msave_dir\u001b[0m\u001b[0;34m.\u001b[0m\u001b[0mglob\u001b[0m\u001b[0;34m(\u001b[0m\u001b[0;34m'train*.jpg'\u001b[0m\u001b[0;34m)\u001b[0m\u001b[0;34m)\u001b[0m\u001b[0;34m\u001b[0m\u001b[0;34m\u001b[0m\u001b[0m\n",
      "\u001b[0;32m~/Desctop/semester7/PMLDL/Project/yolov5/utils/loggers/__init__.py\u001b[0m in \u001b[0;36mlog_tensorboard_graph\u001b[0;34m(tb, model, imgsz)\u001b[0m\n\u001b[1;32m    392\u001b[0m         \u001b[0;32mwith\u001b[0m \u001b[0mwarnings\u001b[0m\u001b[0;34m.\u001b[0m\u001b[0mcatch_warnings\u001b[0m\u001b[0;34m(\u001b[0m\u001b[0;34m)\u001b[0m\u001b[0;34m:\u001b[0m\u001b[0;34m\u001b[0m\u001b[0;34m\u001b[0m\u001b[0m\n\u001b[1;32m    393\u001b[0m             \u001b[0mwarnings\u001b[0m\u001b[0;34m.\u001b[0m\u001b[0msimplefilter\u001b[0m\u001b[0;34m(\u001b[0m\u001b[0;34m'ignore'\u001b[0m\u001b[0;34m)\u001b[0m  \u001b[0;31m# suppress jit trace warning\u001b[0m\u001b[0;34m\u001b[0m\u001b[0;34m\u001b[0m\u001b[0m\n\u001b[0;32m--> 394\u001b[0;31m             \u001b[0mtb\u001b[0m\u001b[0;34m.\u001b[0m\u001b[0madd_graph\u001b[0m\u001b[0;34m(\u001b[0m\u001b[0mtorch\u001b[0m\u001b[0;34m.\u001b[0m\u001b[0mjit\u001b[0m\u001b[0;34m.\u001b[0m\u001b[0mtrace\u001b[0m\u001b[0;34m(\u001b[0m\u001b[0mde_parallel\u001b[0m\u001b[0;34m(\u001b[0m\u001b[0mmodel\u001b[0m\u001b[0;34m)\u001b[0m\u001b[0;34m,\u001b[0m \u001b[0mim\u001b[0m\u001b[0;34m,\u001b[0m \u001b[0mstrict\u001b[0m\u001b[0;34m=\u001b[0m\u001b[0;32mFalse\u001b[0m\u001b[0;34m)\u001b[0m\u001b[0;34m,\u001b[0m \u001b[0;34m[\u001b[0m\u001b[0;34m]\u001b[0m\u001b[0;34m)\u001b[0m\u001b[0;34m\u001b[0m\u001b[0;34m\u001b[0m\u001b[0m\n\u001b[0m\u001b[1;32m    395\u001b[0m     \u001b[0;32mexcept\u001b[0m \u001b[0mException\u001b[0m \u001b[0;32mas\u001b[0m \u001b[0me\u001b[0m\u001b[0;34m:\u001b[0m\u001b[0;34m\u001b[0m\u001b[0;34m\u001b[0m\u001b[0m\n\u001b[1;32m    396\u001b[0m         \u001b[0mLOGGER\u001b[0m\u001b[0;34m.\u001b[0m\u001b[0mwarning\u001b[0m\u001b[0;34m(\u001b[0m\u001b[0;34mf'WARNING ⚠️ TensorBoard graph visualization failure {e}'\u001b[0m\u001b[0;34m)\u001b[0m\u001b[0;34m\u001b[0m\u001b[0;34m\u001b[0m\u001b[0m\n",
      "\u001b[0;32m~/anaconda3/lib/python3.8/site-packages/torch/jit/_trace.py\u001b[0m in \u001b[0;36mtrace\u001b[0;34m(func, example_inputs, optimize, check_trace, check_inputs, check_tolerance, strict, _force_outplace, _module_class, _compilation_unit)\u001b[0m\n\u001b[1;32m    748\u001b[0m \u001b[0;34m\u001b[0m\u001b[0m\n\u001b[1;32m    749\u001b[0m     \u001b[0;32mif\u001b[0m \u001b[0misinstance\u001b[0m\u001b[0;34m(\u001b[0m\u001b[0mfunc\u001b[0m\u001b[0;34m,\u001b[0m \u001b[0mtorch\u001b[0m\u001b[0;34m.\u001b[0m\u001b[0mnn\u001b[0m\u001b[0;34m.\u001b[0m\u001b[0mModule\u001b[0m\u001b[0;34m)\u001b[0m\u001b[0;34m:\u001b[0m\u001b[0;34m\u001b[0m\u001b[0;34m\u001b[0m\u001b[0m\n\u001b[0;32m--> 750\u001b[0;31m         return trace_module(\n\u001b[0m\u001b[1;32m    751\u001b[0m             \u001b[0mfunc\u001b[0m\u001b[0;34m,\u001b[0m\u001b[0;34m\u001b[0m\u001b[0;34m\u001b[0m\u001b[0m\n\u001b[1;32m    752\u001b[0m             \u001b[0;34m{\u001b[0m\u001b[0;34m\"forward\"\u001b[0m\u001b[0;34m:\u001b[0m \u001b[0mexample_inputs\u001b[0m\u001b[0;34m}\u001b[0m\u001b[0;34m,\u001b[0m\u001b[0;34m\u001b[0m\u001b[0;34m\u001b[0m\u001b[0m\n",
      "\u001b[0;32m~/anaconda3/lib/python3.8/site-packages/torch/jit/_trace.py\u001b[0m in \u001b[0;36mtrace_module\u001b[0;34m(mod, inputs, optimize, check_trace, check_inputs, check_tolerance, strict, _force_outplace, _module_class, _compilation_unit)\u001b[0m\n\u001b[1;32m    949\u001b[0m         \u001b[0mregister_submods\u001b[0m\u001b[0;34m(\u001b[0m\u001b[0mmod\u001b[0m\u001b[0;34m,\u001b[0m \u001b[0;34m\"__module\"\u001b[0m\u001b[0;34m)\u001b[0m\u001b[0;34m\u001b[0m\u001b[0;34m\u001b[0m\u001b[0m\n\u001b[1;32m    950\u001b[0m \u001b[0;34m\u001b[0m\u001b[0m\n\u001b[0;32m--> 951\u001b[0;31m         \u001b[0mmodule\u001b[0m \u001b[0;34m=\u001b[0m \u001b[0mmake_module\u001b[0m\u001b[0;34m(\u001b[0m\u001b[0mmod\u001b[0m\u001b[0;34m,\u001b[0m \u001b[0m_module_class\u001b[0m\u001b[0;34m,\u001b[0m \u001b[0m_compilation_unit\u001b[0m\u001b[0;34m)\u001b[0m\u001b[0;34m\u001b[0m\u001b[0;34m\u001b[0m\u001b[0m\n\u001b[0m\u001b[1;32m    952\u001b[0m \u001b[0;34m\u001b[0m\u001b[0m\n\u001b[1;32m    953\u001b[0m         \u001b[0;32mfor\u001b[0m \u001b[0mmethod_name\u001b[0m\u001b[0;34m,\u001b[0m \u001b[0mexample_inputs\u001b[0m \u001b[0;32min\u001b[0m \u001b[0minputs\u001b[0m\u001b[0;34m.\u001b[0m\u001b[0mitems\u001b[0m\u001b[0;34m(\u001b[0m\u001b[0;34m)\u001b[0m\u001b[0;34m:\u001b[0m\u001b[0;34m\u001b[0m\u001b[0;34m\u001b[0m\u001b[0m\n",
      "\u001b[0;32m~/anaconda3/lib/python3.8/site-packages/torch/jit/_trace.py\u001b[0m in \u001b[0;36mmake_module\u001b[0;34m(mod, _module_class, _compilation_unit)\u001b[0m\n\u001b[1;32m    575\u001b[0m         \u001b[0;32mif\u001b[0m \u001b[0m_module_class\u001b[0m \u001b[0;32mis\u001b[0m \u001b[0;32mNone\u001b[0m\u001b[0;34m:\u001b[0m\u001b[0;34m\u001b[0m\u001b[0;34m\u001b[0m\u001b[0m\n\u001b[1;32m    576\u001b[0m             \u001b[0m_module_class\u001b[0m \u001b[0;34m=\u001b[0m \u001b[0mTopLevelTracedModule\u001b[0m\u001b[0;34m\u001b[0m\u001b[0;34m\u001b[0m\u001b[0m\n\u001b[0;32m--> 577\u001b[0;31m         \u001b[0;32mreturn\u001b[0m \u001b[0m_module_class\u001b[0m\u001b[0;34m(\u001b[0m\u001b[0mmod\u001b[0m\u001b[0;34m,\u001b[0m \u001b[0m_compilation_unit\u001b[0m\u001b[0;34m=\u001b[0m\u001b[0m_compilation_unit\u001b[0m\u001b[0;34m)\u001b[0m\u001b[0;34m\u001b[0m\u001b[0;34m\u001b[0m\u001b[0m\n\u001b[0m\u001b[1;32m    578\u001b[0m \u001b[0;34m\u001b[0m\u001b[0m\n\u001b[1;32m    579\u001b[0m \u001b[0;34m\u001b[0m\u001b[0m\n",
      "\u001b[0;32m~/anaconda3/lib/python3.8/site-packages/torch/jit/_trace.py\u001b[0m in \u001b[0;36m__init__\u001b[0;34m(self, orig, id_set, _compilation_unit)\u001b[0m\n\u001b[1;32m   1074\u001b[0m             \u001b[0;32mif\u001b[0m \u001b[0msubmodule\u001b[0m \u001b[0;32mis\u001b[0m \u001b[0;32mNone\u001b[0m\u001b[0;34m:\u001b[0m\u001b[0;34m\u001b[0m\u001b[0;34m\u001b[0m\u001b[0m\n\u001b[1;32m   1075\u001b[0m                 \u001b[0;32mcontinue\u001b[0m\u001b[0;34m\u001b[0m\u001b[0;34m\u001b[0m\u001b[0m\n\u001b[0;32m-> 1076\u001b[0;31m             tmp_module._modules[name] = make_module(\n\u001b[0m\u001b[1;32m   1077\u001b[0m                 \u001b[0msubmodule\u001b[0m\u001b[0;34m,\u001b[0m \u001b[0mTracedModule\u001b[0m\u001b[0;34m,\u001b[0m \u001b[0m_compilation_unit\u001b[0m\u001b[0;34m=\u001b[0m\u001b[0;32mNone\u001b[0m\u001b[0;34m\u001b[0m\u001b[0;34m\u001b[0m\u001b[0m\n\u001b[1;32m   1078\u001b[0m             )\n",
      "\u001b[0;32m~/anaconda3/lib/python3.8/site-packages/torch/jit/_trace.py\u001b[0m in \u001b[0;36mmake_module\u001b[0;34m(mod, _module_class, _compilation_unit)\u001b[0m\n\u001b[1;32m    575\u001b[0m         \u001b[0;32mif\u001b[0m \u001b[0m_module_class\u001b[0m \u001b[0;32mis\u001b[0m \u001b[0;32mNone\u001b[0m\u001b[0;34m:\u001b[0m\u001b[0;34m\u001b[0m\u001b[0;34m\u001b[0m\u001b[0m\n\u001b[1;32m    576\u001b[0m             \u001b[0m_module_class\u001b[0m \u001b[0;34m=\u001b[0m \u001b[0mTopLevelTracedModule\u001b[0m\u001b[0;34m\u001b[0m\u001b[0;34m\u001b[0m\u001b[0m\n\u001b[0;32m--> 577\u001b[0;31m         \u001b[0;32mreturn\u001b[0m \u001b[0m_module_class\u001b[0m\u001b[0;34m(\u001b[0m\u001b[0mmod\u001b[0m\u001b[0;34m,\u001b[0m \u001b[0m_compilation_unit\u001b[0m\u001b[0;34m=\u001b[0m\u001b[0m_compilation_unit\u001b[0m\u001b[0;34m)\u001b[0m\u001b[0;34m\u001b[0m\u001b[0;34m\u001b[0m\u001b[0m\n\u001b[0m\u001b[1;32m    578\u001b[0m \u001b[0;34m\u001b[0m\u001b[0m\n\u001b[1;32m    579\u001b[0m \u001b[0;34m\u001b[0m\u001b[0m\n",
      "\u001b[0;32m~/anaconda3/lib/python3.8/site-packages/torch/jit/_trace.py\u001b[0m in \u001b[0;36m__init__\u001b[0;34m(self, orig, id_set, _compilation_unit)\u001b[0m\n\u001b[1;32m   1074\u001b[0m             \u001b[0;32mif\u001b[0m \u001b[0msubmodule\u001b[0m \u001b[0;32mis\u001b[0m \u001b[0;32mNone\u001b[0m\u001b[0;34m:\u001b[0m\u001b[0;34m\u001b[0m\u001b[0;34m\u001b[0m\u001b[0m\n\u001b[1;32m   1075\u001b[0m                 \u001b[0;32mcontinue\u001b[0m\u001b[0;34m\u001b[0m\u001b[0;34m\u001b[0m\u001b[0m\n\u001b[0;32m-> 1076\u001b[0;31m             tmp_module._modules[name] = make_module(\n\u001b[0m\u001b[1;32m   1077\u001b[0m                 \u001b[0msubmodule\u001b[0m\u001b[0;34m,\u001b[0m \u001b[0mTracedModule\u001b[0m\u001b[0;34m,\u001b[0m \u001b[0m_compilation_unit\u001b[0m\u001b[0;34m=\u001b[0m\u001b[0;32mNone\u001b[0m\u001b[0;34m\u001b[0m\u001b[0;34m\u001b[0m\u001b[0m\n\u001b[1;32m   1078\u001b[0m             )\n",
      "\u001b[0;32m~/anaconda3/lib/python3.8/site-packages/torch/jit/_trace.py\u001b[0m in \u001b[0;36mmake_module\u001b[0;34m(mod, _module_class, _compilation_unit)\u001b[0m\n\u001b[1;32m    575\u001b[0m         \u001b[0;32mif\u001b[0m \u001b[0m_module_class\u001b[0m \u001b[0;32mis\u001b[0m \u001b[0;32mNone\u001b[0m\u001b[0;34m:\u001b[0m\u001b[0;34m\u001b[0m\u001b[0;34m\u001b[0m\u001b[0m\n\u001b[1;32m    576\u001b[0m             \u001b[0m_module_class\u001b[0m \u001b[0;34m=\u001b[0m \u001b[0mTopLevelTracedModule\u001b[0m\u001b[0;34m\u001b[0m\u001b[0;34m\u001b[0m\u001b[0m\n\u001b[0;32m--> 577\u001b[0;31m         \u001b[0;32mreturn\u001b[0m \u001b[0m_module_class\u001b[0m\u001b[0;34m(\u001b[0m\u001b[0mmod\u001b[0m\u001b[0;34m,\u001b[0m \u001b[0m_compilation_unit\u001b[0m\u001b[0;34m=\u001b[0m\u001b[0m_compilation_unit\u001b[0m\u001b[0;34m)\u001b[0m\u001b[0;34m\u001b[0m\u001b[0;34m\u001b[0m\u001b[0m\n\u001b[0m\u001b[1;32m    578\u001b[0m \u001b[0;34m\u001b[0m\u001b[0m\n\u001b[1;32m    579\u001b[0m \u001b[0;34m\u001b[0m\u001b[0m\n",
      "\u001b[0;32m~/anaconda3/lib/python3.8/site-packages/torch/jit/_trace.py\u001b[0m in \u001b[0;36m__init__\u001b[0;34m(self, orig, id_set, _compilation_unit)\u001b[0m\n\u001b[1;32m   1074\u001b[0m             \u001b[0;32mif\u001b[0m \u001b[0msubmodule\u001b[0m \u001b[0;32mis\u001b[0m \u001b[0;32mNone\u001b[0m\u001b[0;34m:\u001b[0m\u001b[0;34m\u001b[0m\u001b[0;34m\u001b[0m\u001b[0m\n\u001b[1;32m   1075\u001b[0m                 \u001b[0;32mcontinue\u001b[0m\u001b[0;34m\u001b[0m\u001b[0;34m\u001b[0m\u001b[0m\n\u001b[0;32m-> 1076\u001b[0;31m             tmp_module._modules[name] = make_module(\n\u001b[0m\u001b[1;32m   1077\u001b[0m                 \u001b[0msubmodule\u001b[0m\u001b[0;34m,\u001b[0m \u001b[0mTracedModule\u001b[0m\u001b[0;34m,\u001b[0m \u001b[0m_compilation_unit\u001b[0m\u001b[0;34m=\u001b[0m\u001b[0;32mNone\u001b[0m\u001b[0;34m\u001b[0m\u001b[0;34m\u001b[0m\u001b[0m\n\u001b[1;32m   1078\u001b[0m             )\n",
      "\u001b[0;32m~/anaconda3/lib/python3.8/site-packages/torch/jit/_trace.py\u001b[0m in \u001b[0;36mmake_module\u001b[0;34m(mod, _module_class, _compilation_unit)\u001b[0m\n\u001b[1;32m    575\u001b[0m         \u001b[0;32mif\u001b[0m \u001b[0m_module_class\u001b[0m \u001b[0;32mis\u001b[0m \u001b[0;32mNone\u001b[0m\u001b[0;34m:\u001b[0m\u001b[0;34m\u001b[0m\u001b[0;34m\u001b[0m\u001b[0m\n\u001b[1;32m    576\u001b[0m             \u001b[0m_module_class\u001b[0m \u001b[0;34m=\u001b[0m \u001b[0mTopLevelTracedModule\u001b[0m\u001b[0;34m\u001b[0m\u001b[0;34m\u001b[0m\u001b[0m\n\u001b[0;32m--> 577\u001b[0;31m         \u001b[0;32mreturn\u001b[0m \u001b[0m_module_class\u001b[0m\u001b[0;34m(\u001b[0m\u001b[0mmod\u001b[0m\u001b[0;34m,\u001b[0m \u001b[0m_compilation_unit\u001b[0m\u001b[0;34m=\u001b[0m\u001b[0m_compilation_unit\u001b[0m\u001b[0;34m)\u001b[0m\u001b[0;34m\u001b[0m\u001b[0;34m\u001b[0m\u001b[0m\n\u001b[0m\u001b[1;32m    578\u001b[0m \u001b[0;34m\u001b[0m\u001b[0m\n\u001b[1;32m    579\u001b[0m \u001b[0;34m\u001b[0m\u001b[0m\n",
      "\u001b[0;32m~/anaconda3/lib/python3.8/site-packages/torch/jit/_trace.py\u001b[0m in \u001b[0;36m__init__\u001b[0;34m(self, orig, id_set, _compilation_unit)\u001b[0m\n\u001b[1;32m   1074\u001b[0m             \u001b[0;32mif\u001b[0m \u001b[0msubmodule\u001b[0m \u001b[0;32mis\u001b[0m \u001b[0;32mNone\u001b[0m\u001b[0;34m:\u001b[0m\u001b[0;34m\u001b[0m\u001b[0;34m\u001b[0m\u001b[0m\n\u001b[1;32m   1075\u001b[0m                 \u001b[0;32mcontinue\u001b[0m\u001b[0;34m\u001b[0m\u001b[0;34m\u001b[0m\u001b[0m\n\u001b[0;32m-> 1076\u001b[0;31m             tmp_module._modules[name] = make_module(\n\u001b[0m\u001b[1;32m   1077\u001b[0m                 \u001b[0msubmodule\u001b[0m\u001b[0;34m,\u001b[0m \u001b[0mTracedModule\u001b[0m\u001b[0;34m,\u001b[0m \u001b[0m_compilation_unit\u001b[0m\u001b[0;34m=\u001b[0m\u001b[0;32mNone\u001b[0m\u001b[0;34m\u001b[0m\u001b[0;34m\u001b[0m\u001b[0m\n\u001b[1;32m   1078\u001b[0m             )\n",
      "\u001b[0;32m~/anaconda3/lib/python3.8/site-packages/torch/jit/_trace.py\u001b[0m in \u001b[0;36mmake_module\u001b[0;34m(mod, _module_class, _compilation_unit)\u001b[0m\n\u001b[1;32m    575\u001b[0m         \u001b[0;32mif\u001b[0m \u001b[0m_module_class\u001b[0m \u001b[0;32mis\u001b[0m \u001b[0;32mNone\u001b[0m\u001b[0;34m:\u001b[0m\u001b[0;34m\u001b[0m\u001b[0;34m\u001b[0m\u001b[0m\n\u001b[1;32m    576\u001b[0m             \u001b[0m_module_class\u001b[0m \u001b[0;34m=\u001b[0m \u001b[0mTopLevelTracedModule\u001b[0m\u001b[0;34m\u001b[0m\u001b[0;34m\u001b[0m\u001b[0m\n\u001b[0;32m--> 577\u001b[0;31m         \u001b[0;32mreturn\u001b[0m \u001b[0m_module_class\u001b[0m\u001b[0;34m(\u001b[0m\u001b[0mmod\u001b[0m\u001b[0;34m,\u001b[0m \u001b[0m_compilation_unit\u001b[0m\u001b[0;34m=\u001b[0m\u001b[0m_compilation_unit\u001b[0m\u001b[0;34m)\u001b[0m\u001b[0;34m\u001b[0m\u001b[0;34m\u001b[0m\u001b[0m\n\u001b[0m\u001b[1;32m    578\u001b[0m \u001b[0;34m\u001b[0m\u001b[0m\n\u001b[1;32m    579\u001b[0m \u001b[0;34m\u001b[0m\u001b[0m\n",
      "\u001b[0;32m~/anaconda3/lib/python3.8/site-packages/torch/jit/_trace.py\u001b[0m in \u001b[0;36m__init__\u001b[0;34m(self, orig, id_set, _compilation_unit)\u001b[0m\n\u001b[1;32m   1078\u001b[0m             )\n\u001b[1;32m   1079\u001b[0m \u001b[0;34m\u001b[0m\u001b[0m\n\u001b[0;32m-> 1080\u001b[0;31m         script_module = torch.jit._recursive.create_script_module(\n\u001b[0m\u001b[1;32m   1081\u001b[0m             \u001b[0mtmp_module\u001b[0m\u001b[0;34m,\u001b[0m \u001b[0;32mlambda\u001b[0m \u001b[0mmodule\u001b[0m\u001b[0;34m:\u001b[0m \u001b[0;34m(\u001b[0m\u001b[0;34m)\u001b[0m\u001b[0;34m,\u001b[0m \u001b[0mshare_types\u001b[0m\u001b[0;34m=\u001b[0m\u001b[0;32mFalse\u001b[0m\u001b[0;34m,\u001b[0m \u001b[0mis_tracing\u001b[0m\u001b[0;34m=\u001b[0m\u001b[0;32mTrue\u001b[0m\u001b[0;34m\u001b[0m\u001b[0;34m\u001b[0m\u001b[0m\n\u001b[1;32m   1082\u001b[0m         )\n",
      "\u001b[0;32m~/anaconda3/lib/python3.8/site-packages/torch/jit/_recursive.py\u001b[0m in \u001b[0;36mcreate_script_module\u001b[0;34m(nn_module, stubs_fn, share_types, is_tracing)\u001b[0m\n\u001b[1;32m    453\u001b[0m     \u001b[0;32massert\u001b[0m \u001b[0;32mnot\u001b[0m \u001b[0misinstance\u001b[0m\u001b[0;34m(\u001b[0m\u001b[0mnn_module\u001b[0m\u001b[0;34m,\u001b[0m \u001b[0mtorch\u001b[0m\u001b[0;34m.\u001b[0m\u001b[0mjit\u001b[0m\u001b[0;34m.\u001b[0m\u001b[0mRecursiveScriptModule\u001b[0m\u001b[0;34m)\u001b[0m\u001b[0;34m\u001b[0m\u001b[0;34m\u001b[0m\u001b[0m\n\u001b[1;32m    454\u001b[0m     \u001b[0mcheck_module_initialized\u001b[0m\u001b[0;34m(\u001b[0m\u001b[0mnn_module\u001b[0m\u001b[0;34m)\u001b[0m\u001b[0;34m\u001b[0m\u001b[0;34m\u001b[0m\u001b[0m\n\u001b[0;32m--> 455\u001b[0;31m     \u001b[0mconcrete_type\u001b[0m \u001b[0;34m=\u001b[0m \u001b[0mget_module_concrete_type\u001b[0m\u001b[0;34m(\u001b[0m\u001b[0mnn_module\u001b[0m\u001b[0;34m,\u001b[0m \u001b[0mshare_types\u001b[0m\u001b[0;34m)\u001b[0m\u001b[0;34m\u001b[0m\u001b[0;34m\u001b[0m\u001b[0m\n\u001b[0m\u001b[1;32m    456\u001b[0m     \u001b[0;32mif\u001b[0m \u001b[0;32mnot\u001b[0m \u001b[0mis_tracing\u001b[0m\u001b[0;34m:\u001b[0m\u001b[0;34m\u001b[0m\u001b[0;34m\u001b[0m\u001b[0m\n\u001b[1;32m    457\u001b[0m         \u001b[0mAttributeTypeIsSupportedChecker\u001b[0m\u001b[0;34m(\u001b[0m\u001b[0;34m)\u001b[0m\u001b[0;34m.\u001b[0m\u001b[0mcheck\u001b[0m\u001b[0;34m(\u001b[0m\u001b[0mnn_module\u001b[0m\u001b[0;34m)\u001b[0m\u001b[0;34m\u001b[0m\u001b[0;34m\u001b[0m\u001b[0m\n",
      "\u001b[0;32m~/anaconda3/lib/python3.8/site-packages/torch/jit/_recursive.py\u001b[0m in \u001b[0;36mget_module_concrete_type\u001b[0;34m(nn_module, share_types)\u001b[0m\n\u001b[1;32m    408\u001b[0m         \u001b[0;31m# Get a concrete type directly, without trying to re-use an existing JIT\u001b[0m\u001b[0;34m\u001b[0m\u001b[0;34m\u001b[0m\u001b[0;34m\u001b[0m\u001b[0m\n\u001b[1;32m    409\u001b[0m         \u001b[0;31m# type from the type store.\u001b[0m\u001b[0;34m\u001b[0m\u001b[0;34m\u001b[0m\u001b[0;34m\u001b[0m\u001b[0m\n\u001b[0;32m--> 410\u001b[0;31m         \u001b[0mconcrete_type_builder\u001b[0m \u001b[0;34m=\u001b[0m \u001b[0minfer_concrete_type_builder\u001b[0m\u001b[0;34m(\u001b[0m\u001b[0mnn_module\u001b[0m\u001b[0;34m,\u001b[0m \u001b[0mshare_types\u001b[0m\u001b[0;34m)\u001b[0m\u001b[0;34m\u001b[0m\u001b[0;34m\u001b[0m\u001b[0m\n\u001b[0m\u001b[1;32m    411\u001b[0m         \u001b[0mconcrete_type_builder\u001b[0m\u001b[0;34m.\u001b[0m\u001b[0mset_poisoned\u001b[0m\u001b[0;34m(\u001b[0m\u001b[0;34m)\u001b[0m\u001b[0;34m\u001b[0m\u001b[0;34m\u001b[0m\u001b[0m\n\u001b[1;32m    412\u001b[0m         \u001b[0mconcrete_type\u001b[0m \u001b[0;34m=\u001b[0m \u001b[0mconcrete_type_builder\u001b[0m\u001b[0;34m.\u001b[0m\u001b[0mbuild\u001b[0m\u001b[0;34m(\u001b[0m\u001b[0;34m)\u001b[0m\u001b[0;34m\u001b[0m\u001b[0;34m\u001b[0m\u001b[0m\n",
      "\u001b[0;32m~/anaconda3/lib/python3.8/site-packages/torch/jit/_recursive.py\u001b[0m in \u001b[0;36minfer_concrete_type_builder\u001b[0;34m(nn_module, share_types)\u001b[0m\n\u001b[1;32m    309\u001b[0m \u001b[0;34m\u001b[0m\u001b[0m\n\u001b[1;32m    310\u001b[0m         \u001b[0;31m# If we got here, this is a regular \"data\" attribute, add it to the concrete type\u001b[0m\u001b[0;34m\u001b[0m\u001b[0;34m\u001b[0m\u001b[0;34m\u001b[0m\u001b[0m\n\u001b[0;32m--> 311\u001b[0;31m         \u001b[0mattr_type\u001b[0m\u001b[0;34m,\u001b[0m \u001b[0minferred\u001b[0m \u001b[0;34m=\u001b[0m \u001b[0minfer_type\u001b[0m\u001b[0;34m(\u001b[0m\u001b[0mname\u001b[0m\u001b[0;34m,\u001b[0m \u001b[0mvalue\u001b[0m\u001b[0;34m)\u001b[0m\u001b[0;34m\u001b[0m\u001b[0;34m\u001b[0m\u001b[0m\n\u001b[0m\u001b[1;32m    312\u001b[0m         \u001b[0;32mif\u001b[0m \u001b[0mattr_type\u001b[0m\u001b[0;34m.\u001b[0m\u001b[0msuccess\u001b[0m\u001b[0;34m(\u001b[0m\u001b[0;34m)\u001b[0m\u001b[0;34m:\u001b[0m\u001b[0;34m\u001b[0m\u001b[0;34m\u001b[0m\u001b[0m\n\u001b[1;32m    313\u001b[0m             \u001b[0mconcrete_type_builder\u001b[0m\u001b[0;34m.\u001b[0m\u001b[0madd_attribute\u001b[0m\u001b[0;34m(\u001b[0m\u001b[0mname\u001b[0m\u001b[0;34m,\u001b[0m \u001b[0mattr_type\u001b[0m\u001b[0;34m.\u001b[0m\u001b[0mtype\u001b[0m\u001b[0;34m(\u001b[0m\u001b[0;34m)\u001b[0m\u001b[0;34m,\u001b[0m \u001b[0;32mFalse\u001b[0m\u001b[0;34m,\u001b[0m \u001b[0;32mFalse\u001b[0m\u001b[0;34m)\u001b[0m\u001b[0;34m\u001b[0m\u001b[0;34m\u001b[0m\u001b[0m\n",
      "\u001b[0;32m~/anaconda3/lib/python3.8/site-packages/torch/jit/_recursive.py\u001b[0m in \u001b[0;36minfer_type\u001b[0;34m(name, item)\u001b[0m\n\u001b[1;32m    154\u001b[0m         \u001b[0;32mtry\u001b[0m\u001b[0;34m:\u001b[0m\u001b[0;34m\u001b[0m\u001b[0;34m\u001b[0m\u001b[0m\n\u001b[1;32m    155\u001b[0m             \u001b[0;32mif\u001b[0m \u001b[0mname\u001b[0m \u001b[0;32min\u001b[0m \u001b[0mclass_annotations\u001b[0m \u001b[0;32mand\u001b[0m \u001b[0mclass_annotations\u001b[0m\u001b[0;34m[\u001b[0m\u001b[0mname\u001b[0m\u001b[0;34m]\u001b[0m \u001b[0;34m!=\u001b[0m \u001b[0mtorch\u001b[0m\u001b[0;34m.\u001b[0m\u001b[0mnn\u001b[0m\u001b[0;34m.\u001b[0m\u001b[0mModule\u001b[0m\u001b[0;34m.\u001b[0m\u001b[0m__annotations__\u001b[0m\u001b[0;34m[\u001b[0m\u001b[0;34m\"forward\"\u001b[0m\u001b[0;34m]\u001b[0m\u001b[0;34m:\u001b[0m\u001b[0;34m\u001b[0m\u001b[0;34m\u001b[0m\u001b[0m\n\u001b[0;32m--> 156\u001b[0;31m                 \u001b[0mann_to_type\u001b[0m \u001b[0;34m=\u001b[0m \u001b[0mtorch\u001b[0m\u001b[0;34m.\u001b[0m\u001b[0mjit\u001b[0m\u001b[0;34m.\u001b[0m\u001b[0mannotations\u001b[0m\u001b[0;34m.\u001b[0m\u001b[0mann_to_type\u001b[0m\u001b[0;34m(\u001b[0m\u001b[0mclass_annotations\u001b[0m\u001b[0;34m[\u001b[0m\u001b[0mname\u001b[0m\u001b[0;34m]\u001b[0m\u001b[0;34m,\u001b[0m \u001b[0mfake_range\u001b[0m\u001b[0;34m(\u001b[0m\u001b[0;34m)\u001b[0m\u001b[0;34m)\u001b[0m\u001b[0;34m\u001b[0m\u001b[0;34m\u001b[0m\u001b[0m\n\u001b[0m\u001b[1;32m    157\u001b[0m                 \u001b[0mattr_type\u001b[0m \u001b[0;34m=\u001b[0m \u001b[0mtorch\u001b[0m\u001b[0;34m.\u001b[0m\u001b[0m_C\u001b[0m\u001b[0;34m.\u001b[0m\u001b[0mInferredType\u001b[0m\u001b[0;34m(\u001b[0m\u001b[0mann_to_type\u001b[0m\u001b[0;34m)\u001b[0m\u001b[0;34m\u001b[0m\u001b[0;34m\u001b[0m\u001b[0m\n\u001b[1;32m    158\u001b[0m             \u001b[0;32melif\u001b[0m \u001b[0misinstance\u001b[0m\u001b[0;34m(\u001b[0m\u001b[0mitem\u001b[0m\u001b[0;34m,\u001b[0m \u001b[0mtorch\u001b[0m\u001b[0;34m.\u001b[0m\u001b[0mjit\u001b[0m\u001b[0;34m.\u001b[0m\u001b[0mAttribute\u001b[0m\u001b[0;34m)\u001b[0m\u001b[0;34m:\u001b[0m\u001b[0;34m\u001b[0m\u001b[0;34m\u001b[0m\u001b[0m\n",
      "\u001b[0;32m~/anaconda3/lib/python3.8/site-packages/torch/_sources.py\u001b[0m in \u001b[0;36mfake_range\u001b[0;34m()\u001b[0m\n\u001b[1;32m     83\u001b[0m \u001b[0;34m\u001b[0m\u001b[0m\n\u001b[1;32m     84\u001b[0m \u001b[0;32mdef\u001b[0m \u001b[0mfake_range\u001b[0m\u001b[0;34m(\u001b[0m\u001b[0;34m)\u001b[0m\u001b[0;34m:\u001b[0m\u001b[0;34m\u001b[0m\u001b[0;34m\u001b[0m\u001b[0m\n\u001b[0;32m---> 85\u001b[0;31m     \u001b[0;32mreturn\u001b[0m \u001b[0mSourceContext\u001b[0m\u001b[0;34m(\u001b[0m\u001b[0;34m''\u001b[0m\u001b[0;34m,\u001b[0m \u001b[0;32mNone\u001b[0m\u001b[0;34m,\u001b[0m \u001b[0;36m0\u001b[0m\u001b[0;34m,\u001b[0m \u001b[0;36m0\u001b[0m\u001b[0;34m)\u001b[0m\u001b[0;34m.\u001b[0m\u001b[0mmake_raw_range\u001b[0m\u001b[0;34m(\u001b[0m\u001b[0;36m0\u001b[0m\u001b[0;34m,\u001b[0m \u001b[0;36m1\u001b[0m\u001b[0;34m)\u001b[0m\u001b[0;34m\u001b[0m\u001b[0;34m\u001b[0m\u001b[0m\n\u001b[0m\u001b[1;32m     86\u001b[0m \u001b[0;34m\u001b[0m\u001b[0m\n\u001b[1;32m     87\u001b[0m \u001b[0;34m\u001b[0m\u001b[0m\n",
      "\u001b[0;32m~/anaconda3/lib/python3.8/site-packages/torch/_sources.py\u001b[0m in \u001b[0;36m__init__\u001b[0;34m(self, source, filename, file_lineno, leading_whitespace_len, uses_true_division, funcname)\u001b[0m\n\u001b[1;32m     71\u001b[0m \u001b[0;32mclass\u001b[0m \u001b[0mSourceContext\u001b[0m\u001b[0;34m(\u001b[0m\u001b[0mSourceRangeFactory\u001b[0m\u001b[0;34m)\u001b[0m\u001b[0;34m:\u001b[0m\u001b[0;34m\u001b[0m\u001b[0;34m\u001b[0m\u001b[0m\n\u001b[1;32m     72\u001b[0m     \u001b[0;32mdef\u001b[0m \u001b[0m__init__\u001b[0m\u001b[0;34m(\u001b[0m\u001b[0mself\u001b[0m\u001b[0;34m,\u001b[0m \u001b[0msource\u001b[0m\u001b[0;34m,\u001b[0m \u001b[0mfilename\u001b[0m\u001b[0;34m,\u001b[0m \u001b[0mfile_lineno\u001b[0m\u001b[0;34m,\u001b[0m \u001b[0mleading_whitespace_len\u001b[0m\u001b[0;34m,\u001b[0m \u001b[0muses_true_division\u001b[0m\u001b[0;34m=\u001b[0m\u001b[0;32mTrue\u001b[0m\u001b[0;34m,\u001b[0m \u001b[0mfuncname\u001b[0m\u001b[0;34m=\u001b[0m\u001b[0;32mNone\u001b[0m\u001b[0;34m)\u001b[0m\u001b[0;34m:\u001b[0m\u001b[0;34m\u001b[0m\u001b[0;34m\u001b[0m\u001b[0m\n\u001b[0;32m---> 73\u001b[0;31m         \u001b[0msuper\u001b[0m\u001b[0;34m(\u001b[0m\u001b[0mSourceContext\u001b[0m\u001b[0;34m,\u001b[0m \u001b[0mself\u001b[0m\u001b[0;34m)\u001b[0m\u001b[0;34m.\u001b[0m\u001b[0m__init__\u001b[0m\u001b[0;34m(\u001b[0m\u001b[0msource\u001b[0m\u001b[0;34m,\u001b[0m \u001b[0mfilename\u001b[0m\u001b[0;34m,\u001b[0m \u001b[0mfile_lineno\u001b[0m\u001b[0;34m,\u001b[0m \u001b[0mleading_whitespace_len\u001b[0m\u001b[0;34m)\u001b[0m\u001b[0;34m\u001b[0m\u001b[0;34m\u001b[0m\u001b[0m\n\u001b[0m\u001b[1;32m     74\u001b[0m         \u001b[0mself\u001b[0m\u001b[0;34m.\u001b[0m\u001b[0muses_true_division\u001b[0m \u001b[0;34m=\u001b[0m \u001b[0muses_true_division\u001b[0m\u001b[0;34m\u001b[0m\u001b[0;34m\u001b[0m\u001b[0m\n\u001b[1;32m     75\u001b[0m         \u001b[0mself\u001b[0m\u001b[0;34m.\u001b[0m\u001b[0mfilename\u001b[0m \u001b[0;34m=\u001b[0m \u001b[0mfilename\u001b[0m\u001b[0;34m\u001b[0m\u001b[0;34m\u001b[0m\u001b[0m\n",
      "\u001b[0;31mKeyboardInterrupt\u001b[0m: "
     ]
    }
   ],
   "source": [
    "#/media/danil-pass123/Новый том/DataSet\n",
    "\n",
    "#data_path = '/media/danil-pass123/Новый том/DataSet/data.yaml'\n",
    "data_path = data_location + '/data_my.yaml'\n",
    "\n",
    "runs_location = data_location + \"/runs_train\"\n",
    "\n",
    "#data_path = 'data.yaml'\n",
    "train.run(data = data_path,epochs = 1,batch_size=1,\n",
    "          single_cls= True,optimizer=\"SGD\",tensorboard=True,\n",
    "          workers=1,device='cpu',\n",
    "          project = runs_location,name = \"exec_num\")\n",
    "#noplots=False"
   ]
  },
  {
   "cell_type": "markdown",
   "metadata": {},
   "source": [
    "## Detect"
   ]
  },
  {
   "cell_type": "code",
   "execution_count": 14,
   "metadata": {},
   "outputs": [],
   "source": [
    "#Remove images if needed\n",
    "if len(os.listdir(\"runs\"))>0:\n",
    "    os.system(\"rm -r runs/*\")"
   ]
  },
  {
   "cell_type": "markdown",
   "metadata": {},
   "source": [
    "### With trained model"
   ]
  },
  {
   "cell_type": "code",
   "execution_count": 15,
   "metadata": {},
   "outputs": [
    {
     "name": "stderr",
     "output_type": "stream",
     "text": [
      "YOLOv5 🚀 v6.2-231-g0039870 Python-3.8.8 torch-1.12.1 CPU\n",
      "\n",
      "Fusing layers... \n"
     ]
    },
    {
     "name": "stdout",
     "output_type": "stream",
     "text": [
      "99/99\n"
     ]
    },
    {
     "name": "stderr",
     "output_type": "stream",
     "text": [
      "Model summary: 157 layers, 7012822 parameters, 0 gradients, 15.8 GFLOPs\n",
      "image 1/1 /media/danil-pass123/Новый том/DataSet/dataset/images/test/93376d9e-21bc-11ea-a13a-137349068a90.jpg: 1536x2048 (no detections), 1564.5ms\n",
      "Speed: 11.1ms pre-process, 1564.5ms inference, 0.6ms NMS per image at shape (1, 3, 1536, 2048)\n",
      "Results saved to \u001b[1m/media/danil-pass123/Новый том/DataSet/runs_test/iter99\u001b[0m\n",
      "0 labels saved to /media/danil-pass123/Новый том/DataSet/runs_test/iter99/labels\n"
     ]
    }
   ],
   "source": [
    "test_images = []\n",
    "test_labels = []\n",
    "#train test val location descriptor\n",
    "#data_path = data_location + '/data.yaml'\n",
    "data_path = data_location + '/data_my.yaml'\n",
    "#data_path = '/media/danil-pass123/\"Новый том\"/DataSet/data.yaml'\n",
    "\n",
    "#weights = \"./yolov5/runs/train/exp19/weights/best.pt\"\n",
    "weights = data_location + '/runs_train/exec_num3/weights/best.pt'\n",
    "\n",
    "classes = [i for i in range(14,24,1)]\n",
    "classes = [\"1\"]\n",
    "\n",
    "#source = '/media/danil-pass123/Новый том/DataSet/dataset/images/test/'\n",
    "runs_location = data_location + \"/runs_test\"\n",
    "\n",
    "for i,img_path,img in zip(range(data_descriptor_test.sample_size),data_descriptor_test.image_dir,data_descriptor_test.image_name):\n",
    "    clear_output(wait=True)\n",
    "    print(f\"{i}/{data_descriptor_test.sample_size-1}\")\n",
    "    detect.run(imgsz=(1536,2048),weights = weights,source = img_path, \n",
    "               project = runs_location,name = f\"iter{i}\",save_txt=True,conf_thres=0.25,\n",
    "               classes=classes,data = data_path)\n",
    "    test_images.append(f'runs/iter{i}/{img}')\n",
    "    test_labels.append(f'runs/iter{i}/labels/{img}.txt')\n",
    "    #time.sleep(0.3)"
   ]
  },
  {
   "cell_type": "markdown",
   "metadata": {},
   "source": [
    "### With initial weights"
   ]
  },
  {
   "cell_type": "code",
   "execution_count": 31,
   "metadata": {},
   "outputs": [
    {
     "name": "stdout",
     "output_type": "stream",
     "text": [
      "0/99\n"
     ]
    },
    {
     "name": "stderr",
     "output_type": "stream",
     "text": [
      "YOLOv5 🚀 v6.2-231-g0039870 Python-3.8.8 torch-1.12.1 CPU\n",
      "\n",
      "Downloading https://github.com/ultralytics/yolov5/releases/download/v6.2/yolov5s.pt to yolov5s.pt...\n"
     ]
    },
    {
     "data": {
      "application/vnd.jupyter.widget-view+json": {
       "model_id": "6837b94fbf9449ada06a7f6ee68ca969",
       "version_major": 2,
       "version_minor": 0
      },
      "text/plain": [
       "  0%|          | 0.00/14.1M [00:00<?, ?B/s]"
      ]
     },
     "metadata": {},
     "output_type": "display_data"
    },
    {
     "name": "stderr",
     "output_type": "stream",
     "text": [
      "\n",
      "Fusing layers... \n",
      "YOLOv5s summary: 213 layers, 7225885 parameters, 0 gradients\n"
     ]
    },
    {
     "ename": "FileNotFoundError",
     "evalue": "/home/danil-pass123/Desctop/semester7/PMLDL/Project/dataset/images/test/8bc642a6-21bc-11ea-a13a-137349068a90.jpg does not exist",
     "output_type": "error",
     "traceback": [
      "\u001b[0;31m---------------------------------------------------------------------------\u001b[0m",
      "\u001b[0;31mFileNotFoundError\u001b[0m                         Traceback (most recent call last)",
      "\u001b[0;32m/tmp/ipykernel_46653/414597377.py\u001b[0m in \u001b[0;36m<module>\u001b[0;34m\u001b[0m\n\u001b[1;32m     16\u001b[0m     \u001b[0mclear_output\u001b[0m\u001b[0;34m(\u001b[0m\u001b[0mwait\u001b[0m\u001b[0;34m=\u001b[0m\u001b[0;32mTrue\u001b[0m\u001b[0;34m)\u001b[0m\u001b[0;34m\u001b[0m\u001b[0;34m\u001b[0m\u001b[0m\n\u001b[1;32m     17\u001b[0m     \u001b[0mprint\u001b[0m\u001b[0;34m(\u001b[0m\u001b[0;34mf\"{i}/{data_descriptor_test.sample_size-1}\"\u001b[0m\u001b[0;34m)\u001b[0m\u001b[0;34m\u001b[0m\u001b[0;34m\u001b[0m\u001b[0m\n\u001b[0;32m---> 18\u001b[0;31m     detect.run(imgsz=(1536,2048),weights = weights,source = img_path, \n\u001b[0m\u001b[1;32m     19\u001b[0m                project = runs_location,name = f\"iter{i}\",save_txt=True,conf_thres=0.25,classes=classes)\n\u001b[1;32m     20\u001b[0m     \u001b[0mtest_images\u001b[0m\u001b[0;34m.\u001b[0m\u001b[0mappend\u001b[0m\u001b[0;34m(\u001b[0m\u001b[0;34mf'runs/iter{i}/{img}'\u001b[0m\u001b[0;34m)\u001b[0m\u001b[0;34m\u001b[0m\u001b[0;34m\u001b[0m\u001b[0m\n",
      "\u001b[0;32m~/anaconda3/lib/python3.8/site-packages/torch/autograd/grad_mode.py\u001b[0m in \u001b[0;36mdecorate_context\u001b[0;34m(*args, **kwargs)\u001b[0m\n\u001b[1;32m     25\u001b[0m         \u001b[0;32mdef\u001b[0m \u001b[0mdecorate_context\u001b[0m\u001b[0;34m(\u001b[0m\u001b[0;34m*\u001b[0m\u001b[0margs\u001b[0m\u001b[0;34m,\u001b[0m \u001b[0;34m**\u001b[0m\u001b[0mkwargs\u001b[0m\u001b[0;34m)\u001b[0m\u001b[0;34m:\u001b[0m\u001b[0;34m\u001b[0m\u001b[0;34m\u001b[0m\u001b[0m\n\u001b[1;32m     26\u001b[0m             \u001b[0;32mwith\u001b[0m \u001b[0mself\u001b[0m\u001b[0;34m.\u001b[0m\u001b[0mclone\u001b[0m\u001b[0;34m(\u001b[0m\u001b[0;34m)\u001b[0m\u001b[0;34m:\u001b[0m\u001b[0;34m\u001b[0m\u001b[0;34m\u001b[0m\u001b[0m\n\u001b[0;32m---> 27\u001b[0;31m                 \u001b[0;32mreturn\u001b[0m \u001b[0mfunc\u001b[0m\u001b[0;34m(\u001b[0m\u001b[0;34m*\u001b[0m\u001b[0margs\u001b[0m\u001b[0;34m,\u001b[0m \u001b[0;34m**\u001b[0m\u001b[0mkwargs\u001b[0m\u001b[0;34m)\u001b[0m\u001b[0;34m\u001b[0m\u001b[0;34m\u001b[0m\u001b[0m\n\u001b[0m\u001b[1;32m     28\u001b[0m         \u001b[0;32mreturn\u001b[0m \u001b[0mcast\u001b[0m\u001b[0;34m(\u001b[0m\u001b[0mF\u001b[0m\u001b[0;34m,\u001b[0m \u001b[0mdecorate_context\u001b[0m\u001b[0;34m)\u001b[0m\u001b[0;34m\u001b[0m\u001b[0;34m\u001b[0m\u001b[0m\n\u001b[1;32m     29\u001b[0m \u001b[0;34m\u001b[0m\u001b[0m\n",
      "\u001b[0;32m~/Desctop/semester7/PMLDL/Project/yolov5/detect.py\u001b[0m in \u001b[0;36mrun\u001b[0;34m(weights, source, data, imgsz, conf_thres, iou_thres, max_det, device, view_img, save_txt, save_conf, save_crop, nosave, classes, agnostic_nms, augment, visualize, update, project, name, exist_ok, line_thickness, hide_labels, hide_conf, half, dnn, vid_stride)\u001b[0m\n\u001b[1;32m    106\u001b[0m         \u001b[0mdataset\u001b[0m \u001b[0;34m=\u001b[0m \u001b[0mLoadScreenshots\u001b[0m\u001b[0;34m(\u001b[0m\u001b[0msource\u001b[0m\u001b[0;34m,\u001b[0m \u001b[0mimg_size\u001b[0m\u001b[0;34m=\u001b[0m\u001b[0mimgsz\u001b[0m\u001b[0;34m,\u001b[0m \u001b[0mstride\u001b[0m\u001b[0;34m=\u001b[0m\u001b[0mstride\u001b[0m\u001b[0;34m,\u001b[0m \u001b[0mauto\u001b[0m\u001b[0;34m=\u001b[0m\u001b[0mpt\u001b[0m\u001b[0;34m)\u001b[0m\u001b[0;34m\u001b[0m\u001b[0;34m\u001b[0m\u001b[0m\n\u001b[1;32m    107\u001b[0m     \u001b[0;32melse\u001b[0m\u001b[0;34m:\u001b[0m\u001b[0;34m\u001b[0m\u001b[0;34m\u001b[0m\u001b[0m\n\u001b[0;32m--> 108\u001b[0;31m         \u001b[0mdataset\u001b[0m \u001b[0;34m=\u001b[0m \u001b[0mLoadImages\u001b[0m\u001b[0;34m(\u001b[0m\u001b[0msource\u001b[0m\u001b[0;34m,\u001b[0m \u001b[0mimg_size\u001b[0m\u001b[0;34m=\u001b[0m\u001b[0mimgsz\u001b[0m\u001b[0;34m,\u001b[0m \u001b[0mstride\u001b[0m\u001b[0;34m=\u001b[0m\u001b[0mstride\u001b[0m\u001b[0;34m,\u001b[0m \u001b[0mauto\u001b[0m\u001b[0;34m=\u001b[0m\u001b[0mpt\u001b[0m\u001b[0;34m,\u001b[0m \u001b[0mvid_stride\u001b[0m\u001b[0;34m=\u001b[0m\u001b[0mvid_stride\u001b[0m\u001b[0;34m)\u001b[0m\u001b[0;34m\u001b[0m\u001b[0;34m\u001b[0m\u001b[0m\n\u001b[0m\u001b[1;32m    109\u001b[0m     \u001b[0mvid_path\u001b[0m\u001b[0;34m,\u001b[0m \u001b[0mvid_writer\u001b[0m \u001b[0;34m=\u001b[0m \u001b[0;34m[\u001b[0m\u001b[0;32mNone\u001b[0m\u001b[0;34m]\u001b[0m \u001b[0;34m*\u001b[0m \u001b[0mbs\u001b[0m\u001b[0;34m,\u001b[0m \u001b[0;34m[\u001b[0m\u001b[0;32mNone\u001b[0m\u001b[0;34m]\u001b[0m \u001b[0;34m*\u001b[0m \u001b[0mbs\u001b[0m\u001b[0;34m\u001b[0m\u001b[0;34m\u001b[0m\u001b[0m\n\u001b[1;32m    110\u001b[0m \u001b[0;34m\u001b[0m\u001b[0m\n",
      "\u001b[0;32m~/Desctop/semester7/PMLDL/Project/yolov5/utils/dataloaders.py\u001b[0m in \u001b[0;36m__init__\u001b[0;34m(self, path, img_size, stride, auto, transforms, vid_stride)\u001b[0m\n\u001b[1;32m    250\u001b[0m                 \u001b[0mfiles\u001b[0m\u001b[0;34m.\u001b[0m\u001b[0mappend\u001b[0m\u001b[0;34m(\u001b[0m\u001b[0mp\u001b[0m\u001b[0;34m)\u001b[0m  \u001b[0;31m# files\u001b[0m\u001b[0;34m\u001b[0m\u001b[0;34m\u001b[0m\u001b[0m\n\u001b[1;32m    251\u001b[0m             \u001b[0;32melse\u001b[0m\u001b[0;34m:\u001b[0m\u001b[0;34m\u001b[0m\u001b[0;34m\u001b[0m\u001b[0m\n\u001b[0;32m--> 252\u001b[0;31m                 \u001b[0;32mraise\u001b[0m \u001b[0mFileNotFoundError\u001b[0m\u001b[0;34m(\u001b[0m\u001b[0;34mf'{p} does not exist'\u001b[0m\u001b[0;34m)\u001b[0m\u001b[0;34m\u001b[0m\u001b[0;34m\u001b[0m\u001b[0m\n\u001b[0m\u001b[1;32m    253\u001b[0m \u001b[0;34m\u001b[0m\u001b[0m\n\u001b[1;32m    254\u001b[0m         \u001b[0mimages\u001b[0m \u001b[0;34m=\u001b[0m \u001b[0;34m[\u001b[0m\u001b[0mx\u001b[0m \u001b[0;32mfor\u001b[0m \u001b[0mx\u001b[0m \u001b[0;32min\u001b[0m \u001b[0mfiles\u001b[0m \u001b[0;32mif\u001b[0m \u001b[0mx\u001b[0m\u001b[0;34m.\u001b[0m\u001b[0msplit\u001b[0m\u001b[0;34m(\u001b[0m\u001b[0;34m'.'\u001b[0m\u001b[0;34m)\u001b[0m\u001b[0;34m[\u001b[0m\u001b[0;34m-\u001b[0m\u001b[0;36m1\u001b[0m\u001b[0;34m]\u001b[0m\u001b[0;34m.\u001b[0m\u001b[0mlower\u001b[0m\u001b[0;34m(\u001b[0m\u001b[0;34m)\u001b[0m \u001b[0;32min\u001b[0m \u001b[0mIMG_FORMATS\u001b[0m\u001b[0;34m]\u001b[0m\u001b[0;34m\u001b[0m\u001b[0;34m\u001b[0m\u001b[0m\n",
      "\u001b[0;31mFileNotFoundError\u001b[0m: /home/danil-pass123/Desctop/semester7/PMLDL/Project/dataset/images/test/8bc642a6-21bc-11ea-a13a-137349068a90.jpg does not exist"
     ]
    }
   ],
   "source": [
    "test_images = []\n",
    "test_labels = []\n",
    "#train test val location descriptor\n",
    "data_path = data_location + '/data.yaml'\n",
    "#data_path = '/media/danil-pass123/\"Новый том\"/DataSet/data.yaml'\n",
    "\n",
    "#weights = \"./yolov5/runs/train/exp19/weights/best.pt\"\n",
    "weights = 'yolov5s.pt'\n",
    "\n",
    "classes = [i for i in range(14,24,1)]\n",
    "\n",
    "#source = '/media/danil-pass123/Новый том/DataSet/dataset/images/test/'\n",
    "runs_location = data_location + \"/runs_test\"\n",
    "\n",
    "for i,img_path,img in zip(range(data_descriptor_test.sample_size),data_descriptor_test.image_dir,data_descriptor_test.image_name):\n",
    "    clear_output(wait=True)\n",
    "    print(f\"{i}/{data_descriptor_test.sample_size-1}\")\n",
    "    detect.run(imgsz=(1536,2048),weights = weights,source = img_path, \n",
    "               project = runs_location,name = f\"iter{i}\",save_txt=True,conf_thres=0.25,classes=classes)\n",
    "    test_images.append(f'runs/iter{i}/{img}')\n",
    "    test_labels.append(f'runs/iter{i}/labels/{img}.txt')\n",
    "    #time.sleep(0.3)"
   ]
  },
  {
   "cell_type": "markdown",
   "metadata": {},
   "source": [
    "### Accuracy measurments"
   ]
  },
  {
   "cell_type": "code",
   "execution_count": 21,
   "metadata": {},
   "outputs": [
    {
     "data": {
      "text/plain": [
       "'\\ndef draw_images(pos):\\n    global test_images\\n    if pos < len(test_images):\\n        plt.imshow(cv2.imread(test_images[pos]))\\n    else:\\n        return\\n'"
      ]
     },
     "execution_count": 21,
     "metadata": {},
     "output_type": "execute_result"
    }
   ],
   "source": [
    "\"\"\"\n",
    "def draw_images(pos):\n",
    "    global test_images\n",
    "    if pos < len(test_images):\n",
    "        plt.imshow(cv2.imread(test_images[pos]))\n",
    "    else:\n",
    "        return\n",
    "\"\"\""
   ]
  },
  {
   "cell_type": "code",
   "execution_count": 22,
   "metadata": {},
   "outputs": [],
   "source": [
    "#draw_images(0)"
   ]
  },
  {
   "cell_type": "code",
   "execution_count": 16,
   "metadata": {},
   "outputs": [],
   "source": [
    "def load_pred_labels(file_name):\n",
    "    box_pred = []\n",
    "    conf_pred = []\n",
    "    \n",
    "    if os.path.isfile(file_name):\n",
    "        with open(file_name,'r') as f:\n",
    "            lns = f.readlines()\n",
    "        \n",
    "            for l in lns:\n",
    "                pred = list(map(float,l.split(' ')))\n",
    "                box_pred.append(pred[1:])\n",
    "                conf_pred.append(pred[0])\n",
    "        return conf_pred,np.array(box_pred)\n",
    "    else:\n",
    "        return 0,np.array([[-5,-5,-5,-5]])\n",
    "\n",
    "def get_pred_labels_generator(files):\n",
    "    for f in files:\n",
    "        yield load_pred_labels(f)\n",
    "        \n",
    "        \n",
    "        \n",
    "def get_pred_labels(files):\n",
    "    labels = []\n",
    "    for f in files:\n",
    "        _,bbox = load_pred_labels(f)\n",
    "        labels.append(bbox)\n",
    "    return labels"
   ]
  },
  {
   "cell_type": "code",
   "execution_count": 17,
   "metadata": {},
   "outputs": [],
   "source": [
    "#for i in range(100):\n",
    "#    if data_descriptor_test.labels[i].shape[0]==2:\n",
    "#        print(i)"
   ]
  },
  {
   "cell_type": "code",
   "execution_count": 18,
   "metadata": {},
   "outputs": [],
   "source": [
    "def iou_metric(y_true,y_pred):\n",
    "    iou_res = 0\n",
    "    #y_true = [torch.tensor(y_t) for y_t in y_true]\n",
    "    y_true = torch.tensor(y_true)\n",
    "\n",
    "    for y_p in y_pred:\n",
    "\n",
    "        y_p = torch.tensor(y_p).reshape(1,-1)\n",
    "        #print(y_true.shape,y_p.shape)\n",
    "        iou_res += float(metrics.bbox_iou(y_p,y_true,xywh=True).min())\n",
    "    return iou_res/y_pred.shape[0]"
   ]
  },
  {
   "cell_type": "markdown",
   "metadata": {},
   "source": [
    "Cartesian product"
   ]
  },
  {
   "cell_type": "code",
   "execution_count": 19,
   "metadata": {},
   "outputs": [],
   "source": [
    "def mse_box(y_true,y_pred):\n",
    "    a = np.concatenate([y_pred,np.arange(len(y_pred)).reshape(-1,1)],axis=1)\n",
    "    b = np.concatenate([y_true,np.arange(len(y_true)).reshape(-1,1)],axis=1)\n",
    "\n",
    "    c = np.repeat(a,len(b),axis=0)\n",
    "    d = np.tile(b,(len(a),1))\n",
    "\n",
    "    res = np.concatenate([c,d],axis=1)\n",
    "    diff = ((res[:,[0,1]] - res[:,[5,6]])**2).sum(axis=1)**0.5\n",
    "\n",
    "    selected = [[],[]]\n",
    "    res_mse = 0\n",
    "    for i in np.argsort(diff):\n",
    "        if (res[i][4] not in selected[0]) & (res[i][9]  not in selected[1]):\n",
    "            selected[0].append(res[i][4])\n",
    "            selected[1].append(res[i][9])\n",
    "\n",
    "            point = ((res[i][[0,1]]-res[i][[5,6]])**2).sum()\n",
    "            box = ((res[i][[2,3]]-res[i][[7,8]])**2).sum()\n",
    "\n",
    "            res_mse += (point + box)**0.5\n",
    "        res_mse /= len(selected)\n",
    "    return res_mse"
   ]
  },
  {
   "cell_type": "code",
   "execution_count": 20,
   "metadata": {},
   "outputs": [],
   "source": [
    "def num_found_obj(y_true,y_pred):\n",
    "    mse = np.abs(y_true.shape[0]-y_pred.shape[0])\n",
    "    return mse"
   ]
  },
  {
   "cell_type": "code",
   "execution_count": 21,
   "metadata": {},
   "outputs": [],
   "source": [
    "def evaluate(true_list,pred_list):\n",
    "    \n",
    "    acc_res = {\"iou\":[],\"mse_box\":[],\"acc_obj\":[],\"correctnces\":[]}\n",
    "    for y_true,y_pred in zip(true_list,pred_list):\n",
    "        #print(y_true.shape,y_pred.shape)\n",
    "        if (y_true==-5).all() and (y_pred==-5).all():\n",
    "            acc_res[\"iou\"].append(0)\n",
    "            acc_res[\"mse_box\"].append(0)\n",
    "            acc_res[\"acc_obj\"].append(0)\n",
    "            acc_res[\"correctnces\"].append(1)\n",
    "            \n",
    "        elif (y_true==-5).all() and (y_pred!=-5).all():\n",
    "            acc_res[\"iou\"].append(-1)\n",
    "            acc_res[\"mse_box\"].append(-1)\n",
    "            acc_res[\"acc_obj\"].append(-y_pred.shape[0])\n",
    "            acc_res[\"correctnces\"].append(0)\n",
    "        elif (y_true!=-5).all() and (y_pred==-5).all():\n",
    "            acc_res[\"iou\"].append(-1)\n",
    "            acc_res[\"mse_box\"].append(-1)\n",
    "            acc_res[\"acc_obj\"].append(-y_true.shape[0])\n",
    "            acc_res[\"correctnces\"].append(0)\n",
    "        else:\n",
    "            acc_res[\"iou\"].append(iou_metric(y_true,y_pred))\n",
    "            acc_res[\"mse_box\"].append(mse_box(y_true,y_pred))\n",
    "            acc_res[\"acc_obj\"].append( num_found_obj(y_true,y_pred) )\n",
    "            acc_res[\"correctnces\"].append(1)\n",
    "    \n",
    "    return acc_res\n",
    "y_true = data_descriptor_test.labels\n",
    "y_pred = get_pred_labels(test_labels)\n",
    "acc_res = evaluate(y_true,y_pred)"
   ]
  },
  {
   "cell_type": "code",
   "execution_count": 35,
   "metadata": {},
   "outputs": [
    {
     "data": {
      "text/plain": [
       "True"
      ]
     },
     "execution_count": 35,
     "metadata": {},
     "output_type": "execute_result"
    }
   ],
   "source": [
    "(np.array(y_pred)==np.array([[-5]])).all()"
   ]
  },
  {
   "cell_type": "code",
   "execution_count": 22,
   "metadata": {},
   "outputs": [],
   "source": [
    "acc_res = pd.DataFrame(acc_res)"
   ]
  },
  {
   "cell_type": "code",
   "execution_count": 23,
   "metadata": {},
   "outputs": [
    {
     "data": {
      "text/html": [
       "<div>\n",
       "<style scoped>\n",
       "    .dataframe tbody tr th:only-of-type {\n",
       "        vertical-align: middle;\n",
       "    }\n",
       "\n",
       "    .dataframe tbody tr th {\n",
       "        vertical-align: top;\n",
       "    }\n",
       "\n",
       "    .dataframe thead th {\n",
       "        text-align: right;\n",
       "    }\n",
       "</style>\n",
       "<table border=\"1\" class=\"dataframe\">\n",
       "  <thead>\n",
       "    <tr style=\"text-align: right;\">\n",
       "      <th></th>\n",
       "      <th>iou</th>\n",
       "      <th>mse_box</th>\n",
       "      <th>acc_obj</th>\n",
       "      <th>correctnces</th>\n",
       "    </tr>\n",
       "  </thead>\n",
       "  <tbody>\n",
       "    <tr>\n",
       "      <th>0</th>\n",
       "      <td>0</td>\n",
       "      <td>0</td>\n",
       "      <td>0</td>\n",
       "      <td>1</td>\n",
       "    </tr>\n",
       "    <tr>\n",
       "      <th>1</th>\n",
       "      <td>0</td>\n",
       "      <td>0</td>\n",
       "      <td>0</td>\n",
       "      <td>1</td>\n",
       "    </tr>\n",
       "    <tr>\n",
       "      <th>2</th>\n",
       "      <td>0</td>\n",
       "      <td>0</td>\n",
       "      <td>0</td>\n",
       "      <td>1</td>\n",
       "    </tr>\n",
       "    <tr>\n",
       "      <th>3</th>\n",
       "      <td>0</td>\n",
       "      <td>0</td>\n",
       "      <td>0</td>\n",
       "      <td>1</td>\n",
       "    </tr>\n",
       "    <tr>\n",
       "      <th>4</th>\n",
       "      <td>0</td>\n",
       "      <td>0</td>\n",
       "      <td>0</td>\n",
       "      <td>1</td>\n",
       "    </tr>\n",
       "    <tr>\n",
       "      <th>...</th>\n",
       "      <td>...</td>\n",
       "      <td>...</td>\n",
       "      <td>...</td>\n",
       "      <td>...</td>\n",
       "    </tr>\n",
       "    <tr>\n",
       "      <th>95</th>\n",
       "      <td>0</td>\n",
       "      <td>0</td>\n",
       "      <td>0</td>\n",
       "      <td>1</td>\n",
       "    </tr>\n",
       "    <tr>\n",
       "      <th>96</th>\n",
       "      <td>0</td>\n",
       "      <td>0</td>\n",
       "      <td>0</td>\n",
       "      <td>1</td>\n",
       "    </tr>\n",
       "    <tr>\n",
       "      <th>97</th>\n",
       "      <td>0</td>\n",
       "      <td>0</td>\n",
       "      <td>0</td>\n",
       "      <td>1</td>\n",
       "    </tr>\n",
       "    <tr>\n",
       "      <th>98</th>\n",
       "      <td>0</td>\n",
       "      <td>0</td>\n",
       "      <td>0</td>\n",
       "      <td>1</td>\n",
       "    </tr>\n",
       "    <tr>\n",
       "      <th>99</th>\n",
       "      <td>0</td>\n",
       "      <td>0</td>\n",
       "      <td>0</td>\n",
       "      <td>1</td>\n",
       "    </tr>\n",
       "  </tbody>\n",
       "</table>\n",
       "<p>73 rows × 4 columns</p>\n",
       "</div>"
      ],
      "text/plain": [
       "    iou  mse_box  acc_obj  correctnces\n",
       "0     0        0        0            1\n",
       "1     0        0        0            1\n",
       "2     0        0        0            1\n",
       "3     0        0        0            1\n",
       "4     0        0        0            1\n",
       "..  ...      ...      ...          ...\n",
       "95    0        0        0            1\n",
       "96    0        0        0            1\n",
       "97    0        0        0            1\n",
       "98    0        0        0            1\n",
       "99    0        0        0            1\n",
       "\n",
       "[73 rows x 4 columns]"
      ]
     },
     "execution_count": 23,
     "metadata": {},
     "output_type": "execute_result"
    }
   ],
   "source": [
    "acc_res[acc_res[\"iou\"]==acc_res[\"iou\"].max()]"
   ]
  },
  {
   "cell_type": "code",
   "execution_count": 26,
   "metadata": {},
   "outputs": [
    {
     "data": {
      "text/html": [
       "<div>\n",
       "<style scoped>\n",
       "    .dataframe tbody tr th:only-of-type {\n",
       "        vertical-align: middle;\n",
       "    }\n",
       "\n",
       "    .dataframe tbody tr th {\n",
       "        vertical-align: top;\n",
       "    }\n",
       "\n",
       "    .dataframe thead th {\n",
       "        text-align: right;\n",
       "    }\n",
       "</style>\n",
       "<table border=\"1\" class=\"dataframe\">\n",
       "  <thead>\n",
       "    <tr style=\"text-align: right;\">\n",
       "      <th></th>\n",
       "      <th>iou</th>\n",
       "      <th>mse_box</th>\n",
       "      <th>acc_obj</th>\n",
       "      <th>correctnces</th>\n",
       "    </tr>\n",
       "  </thead>\n",
       "  <tbody>\n",
       "  </tbody>\n",
       "</table>\n",
       "</div>"
      ],
      "text/plain": [
       "Empty DataFrame\n",
       "Columns: [iou, mse_box, acc_obj, correctnces]\n",
       "Index: []"
      ]
     },
     "execution_count": 26,
     "metadata": {},
     "output_type": "execute_result"
    }
   ],
   "source": [
    "acc_res[acc_res[\"mse_box\"]==acc_res[acc_res[\"mse_box\"]>0][\"mse_box\"].min()]"
   ]
  },
  {
   "cell_type": "code",
   "execution_count": 27,
   "metadata": {},
   "outputs": [
    {
     "data": {
      "text/html": [
       "<div>\n",
       "<style scoped>\n",
       "    .dataframe tbody tr th:only-of-type {\n",
       "        vertical-align: middle;\n",
       "    }\n",
       "\n",
       "    .dataframe tbody tr th {\n",
       "        vertical-align: top;\n",
       "    }\n",
       "\n",
       "    .dataframe thead th {\n",
       "        text-align: right;\n",
       "    }\n",
       "</style>\n",
       "<table border=\"1\" class=\"dataframe\">\n",
       "  <thead>\n",
       "    <tr style=\"text-align: right;\">\n",
       "      <th></th>\n",
       "      <th>iou</th>\n",
       "      <th>mse_box</th>\n",
       "      <th>acc_obj</th>\n",
       "      <th>correctnces</th>\n",
       "    </tr>\n",
       "  </thead>\n",
       "  <tbody>\n",
       "    <tr>\n",
       "      <th>0</th>\n",
       "      <td>0</td>\n",
       "      <td>0</td>\n",
       "      <td>0</td>\n",
       "      <td>1</td>\n",
       "    </tr>\n",
       "    <tr>\n",
       "      <th>1</th>\n",
       "      <td>0</td>\n",
       "      <td>0</td>\n",
       "      <td>0</td>\n",
       "      <td>1</td>\n",
       "    </tr>\n",
       "    <tr>\n",
       "      <th>2</th>\n",
       "      <td>0</td>\n",
       "      <td>0</td>\n",
       "      <td>0</td>\n",
       "      <td>1</td>\n",
       "    </tr>\n",
       "    <tr>\n",
       "      <th>3</th>\n",
       "      <td>0</td>\n",
       "      <td>0</td>\n",
       "      <td>0</td>\n",
       "      <td>1</td>\n",
       "    </tr>\n",
       "    <tr>\n",
       "      <th>4</th>\n",
       "      <td>0</td>\n",
       "      <td>0</td>\n",
       "      <td>0</td>\n",
       "      <td>1</td>\n",
       "    </tr>\n",
       "    <tr>\n",
       "      <th>...</th>\n",
       "      <td>...</td>\n",
       "      <td>...</td>\n",
       "      <td>...</td>\n",
       "      <td>...</td>\n",
       "    </tr>\n",
       "    <tr>\n",
       "      <th>95</th>\n",
       "      <td>0</td>\n",
       "      <td>0</td>\n",
       "      <td>0</td>\n",
       "      <td>1</td>\n",
       "    </tr>\n",
       "    <tr>\n",
       "      <th>96</th>\n",
       "      <td>0</td>\n",
       "      <td>0</td>\n",
       "      <td>0</td>\n",
       "      <td>1</td>\n",
       "    </tr>\n",
       "    <tr>\n",
       "      <th>97</th>\n",
       "      <td>0</td>\n",
       "      <td>0</td>\n",
       "      <td>0</td>\n",
       "      <td>1</td>\n",
       "    </tr>\n",
       "    <tr>\n",
       "      <th>98</th>\n",
       "      <td>0</td>\n",
       "      <td>0</td>\n",
       "      <td>0</td>\n",
       "      <td>1</td>\n",
       "    </tr>\n",
       "    <tr>\n",
       "      <th>99</th>\n",
       "      <td>0</td>\n",
       "      <td>0</td>\n",
       "      <td>0</td>\n",
       "      <td>1</td>\n",
       "    </tr>\n",
       "  </tbody>\n",
       "</table>\n",
       "<p>73 rows × 4 columns</p>\n",
       "</div>"
      ],
      "text/plain": [
       "    iou  mse_box  acc_obj  correctnces\n",
       "0     0        0        0            1\n",
       "1     0        0        0            1\n",
       "2     0        0        0            1\n",
       "3     0        0        0            1\n",
       "4     0        0        0            1\n",
       "..  ...      ...      ...          ...\n",
       "95    0        0        0            1\n",
       "96    0        0        0            1\n",
       "97    0        0        0            1\n",
       "98    0        0        0            1\n",
       "99    0        0        0            1\n",
       "\n",
       "[73 rows x 4 columns]"
      ]
     },
     "execution_count": 27,
     "metadata": {},
     "output_type": "execute_result"
    }
   ],
   "source": [
    "acc_res[acc_res[\"acc_obj\"]==0]"
   ]
  },
  {
   "cell_type": "code",
   "execution_count": null,
   "metadata": {},
   "outputs": [],
   "source": [
    "acc_res#.head(4)"
   ]
  },
  {
   "cell_type": "code",
   "execution_count": 27,
   "metadata": {},
   "outputs": [],
   "source": [
    "def calculate_num_objects(labels,seq_list,img_name):\n",
    "    num_obj_seq = {}\n",
    "    num_obj_img = {}\n",
    "    \n",
    "    for l,seq,i_name in zip(labels,seq_list,img_name):\n",
    "        if seq not in num_obj_seq.keys():\n",
    "            num_obj_seq[seq] = []\n",
    "        num_obj_seq[seq].append(len(l))\n",
    "        num_obj_img[i_name] = len(l)\n",
    "    return num_obj_seq, num_obj_img\n",
    "        \n",
    "\n",
    "num_obj_seq, num_obj_img = calculate_num_objects(get_pred_labels(test_labels),data_descriptor_test.seq_id,data_descriptor_test.image_name)"
   ]
  },
  {
   "cell_type": "code",
   "execution_count": 55,
   "metadata": {},
   "outputs": [],
   "source": [
    "#get_pred_labels(test_labels)"
   ]
  },
  {
   "cell_type": "code",
   "execution_count": 56,
   "metadata": {},
   "outputs": [
    {
     "data": {
      "text/plain": [
       "{'386914ce-6fe2-11eb-844f-0242ac1c0002': [1, 2, 1, 3, 1, 2, 3, 1],\n",
       " '988ae29e-21bc-11ea-a13a-137349068a90': [1, 1],\n",
       " '947b2c2c-21bc-11ea-a13a-137349068a90': [1, 1, 1],\n",
       " '386af23a-6fe2-11eb-844f-0242ac1c0002': [2, 1],\n",
       " '96760128-21bc-11ea-a13a-137349068a90': [4, 1],\n",
       " '9871f374-21bc-11ea-a13a-137349068a90': [1],\n",
       " '969ab9b4-21bc-11ea-a13a-137349068a90': [1, 1],\n",
       " '3868eee0-6fe2-11eb-844f-0242ac1c0002': [1, 1, 1, 1, 1, 1, 1],\n",
       " '38699142-6fe2-11eb-844f-0242ac1c0002': [1, 1, 1, 1, 1, 1, 1],\n",
       " '922ca874-21bc-11ea-a13a-137349068a90': [1, 1, 3],\n",
       " 'a9187f88-0cd3-11eb-bed1-0242ac1c0002': [1, 1, 1, 1, 1, 1],\n",
       " '3866fb08-6fe2-11eb-844f-0242ac1c0002': [3, 1, 1, 1, 1, 1, 1, 2, 1],\n",
       " '946cf95e-21bc-11ea-a13a-137349068a90': [1, 1, 1, 1, 1, 1, 1, 1],\n",
       " '91b21776-21bc-11ea-a13a-137349068a90': [1, 1, 1],\n",
       " '94d9c5c0-21bc-11ea-a13a-137349068a90': [1, 1, 1, 1, 1, 1],\n",
       " '9788357c-21bc-11ea-a13a-137349068a90': [1],\n",
       " '8e8f2e3a-21bc-11ea-a13a-137349068a90': [1, 1, 1],\n",
       " '916916a2-21bc-11ea-a13a-137349068a90': [1, 1, 1, 1, 1, 2],\n",
       " '96f9fdf2-21bc-11ea-a13a-137349068a90': [1, 1],\n",
       " '9852d1d8-21bc-11ea-a13a-137349068a90': [2, 2, 2, 3, 2],\n",
       " '99410f4c-21bc-11ea-a13a-137349068a90': [1, 1, 1, 2, 2],\n",
       " '904ab50a-21bc-11ea-a13a-137349068a90': [1, 1],\n",
       " '9831b296-21bc-11ea-a13a-137349068a90': [1],\n",
       " '993a986a-21bc-11ea-a13a-137349068a90': [1, 1],\n",
       " '93376fba-21bc-11ea-a13a-137349068a90': [1, 1, 1, 1]}"
      ]
     },
     "execution_count": 56,
     "metadata": {},
     "output_type": "execute_result"
    }
   ],
   "source": [
    "num_obj_seq"
   ]
  },
  {
   "cell_type": "markdown",
   "metadata": {},
   "source": [
    "### Save sequence of numbers of animals"
   ]
  },
  {
   "cell_type": "code",
   "execution_count": 57,
   "metadata": {},
   "outputs": [],
   "source": [
    "seq_dataset = {\"seq_id\":[],\"count\":[]}\n",
    "for k in num_obj_seq.keys():\n",
    "    seq_dataset[\"seq_id\"].append(k)\n",
    "    seq_dataset[\"count\"].append(num_obj_seq[k])\n",
    "seq_dataset = pd.DataFrame(seq_dataset)"
   ]
  },
  {
   "cell_type": "code",
   "execution_count": 60,
   "metadata": {},
   "outputs": [],
   "source": [
    "img_dataset = {\"id\":[],\"count\":[]}\n",
    "for k in num_obj_img.keys():\n",
    "    img_dataset[\"id\"].append(k)\n",
    "    img_dataset[\"count\"].append(num_obj_img[k])\n",
    "img_dataset = pd.DataFrame(img_dataset)"
   ]
  },
  {
   "cell_type": "code",
   "execution_count": 66,
   "metadata": {},
   "outputs": [],
   "source": [
    "seq_dataset.to_csv(\"seq_dataset/seq_data.csv\")"
   ]
  },
  {
   "cell_type": "code",
   "execution_count": null,
   "metadata": {},
   "outputs": [],
   "source": [
    "img_dataset.to_csv(\"seq_dataset/img_data.csv\")"
   ]
  }
 ],
 "metadata": {
  "kernelspec": {
   "display_name": "Python 3 (ipykernel)",
   "language": "python",
   "name": "python3"
  },
  "language_info": {
   "codemirror_mode": {
    "name": "ipython",
    "version": 3
   },
   "file_extension": ".py",
   "mimetype": "text/x-python",
   "name": "python",
   "nbconvert_exporter": "python",
   "pygments_lexer": "ipython3",
   "version": "3.8.8"
  }
 },
 "nbformat": 4,
 "nbformat_minor": 4
}
